{
 "cells": [
  {
   "cell_type": "code",
   "execution_count": 80,
   "metadata": {
    "collapsed": true
   },
   "outputs": [],
   "source": [
    "import os, sys\n",
    "import numpy as np\n",
    "import matplotlib.pyplot as plt\n",
    "import random\n",
    "\n",
    "import cv2\n",
    "from skimage import io\n",
    "from skimage.io import imread, imshow, imread_collection, concatenate_images\n",
    "from skimage.transform import resize\n",
    "from skimage.morphology import label\n",
    "from skimage.color import rgb2gray\n",
    "from tqdm import tqdm\n",
    "\n",
    "import SimpleITK as sitk\n",
    "import pylab\n",
    "%matplotlib inline \n",
    "\n",
    "TRAIN_PATH = '../data/stage1_train/'\n",
    "TEST_PATH = '../data/stage1_test/'"
   ]
  },
  {
   "cell_type": "code",
   "execution_count": 2,
   "metadata": {
    "collapsed": true
   },
   "outputs": [],
   "source": [
    "# Utility function for plotting multiple images\n",
    "def plots(imgs, figsize=(12,6), rows=1, title=None, titles=None):\n",
    "    f = plt.figure(figsize=figsize)\n",
    "    if title is not None: plt.title(title)\n",
    "    for i in range(len(imgs)):\n",
    "        sp = f.add_subplot(rows, len(imgs)//rows, i+1)\n",
    "        sp.axis('Off')\n",
    "        if titles is not None: sp.set_title(titles[i], fontsize=8)\n",
    "        plt.imshow(np.squeeze(imgs[i]), cmap='gray')"
   ]
  },
  {
   "cell_type": "code",
   "execution_count": 87,
   "metadata": {
    "collapsed": true
   },
   "outputs": [],
   "source": [
    "# need to install SimpleITK\n",
    "# https://itk.org/Doxygen/html/classitk_1_1BinaryContourImageFilter.html#a0e8485c516ceefbb4408198cc302f869\n",
    "# part of the contour miss\n",
    "def get_contour(img_arr):\n",
    "    idx = img_arr > 128\n",
    "    img_arr[idx] = 255\n",
    "    idx = img_arr < 128\n",
    "    img_arr[idx] = 0\n",
    "    img = sitk.GetImageFromArray(img_arr)\n",
    "    binaryContourFilter = sitk.BinaryContourImageFilter()\n",
    "    binaryContourFilter.SetForegroundValue(255)\n",
    "    binaryContourFilter.SetBackgroundValue(0)\n",
    "    binaryContourFilter.SetFullyConnected(True)\n",
    "    img_contour = binaryContourFilter.Execute(img)\n",
    "    return sitk.GetArrayFromImage(img_contour)\n",
    "\n"
   ]
  },
  {
   "cell_type": "code",
   "execution_count": 88,
   "metadata": {
    "collapsed": true
   },
   "outputs": [],
   "source": [
    "# need to install SimpleITK\n",
    "def get_gradient(img_arr):\n",
    "    img = sitk.GetImageFromArray(img_arr)\n",
    "    \n",
    "    gradFilter = sitk.GradientMagnitudeRecursiveGaussianImageFilter()\n",
    "    gradFilter.SetSigma(1.0)\n",
    "    img_gradient = gradFilter.Execute(img)\n",
    "    \n",
    "    rescaleFilter = sitk.RescaleIntensityImageFilter()\n",
    "    rescaleFilter.SetOutputMinimum(0)\n",
    "    rescaleFilter.SetOutputMaximum(255)\n",
    "    img_gradient = rescaleFilter.Execute(img_gradient)\n",
    "    return sitk.GetArrayFromImage(img_gradient)"
   ]
  },
  {
   "cell_type": "code",
   "execution_count": 89,
   "metadata": {},
   "outputs": [],
   "source": [
    "# Reading and pre-processing mainly based on:\n",
    "# https://www.kaggle.com/raoulma/nuclei-dsb-2018-tensorflow-u-net-score-0-352\n",
    "def read_image(filepath, color_mode=cv2.IMREAD_COLOR, target_size=None):\n",
    "    \"\"\"Read an image from a file and resize it.\"\"\"\n",
    "    img = cv2.imread(filepath, color_mode)\n",
    "    if target_size: \n",
    "        img = cv2.resize(img, target_size, interpolation=cv2.INTER_AREA)\n",
    "    return img\n",
    "\n",
    "def read_mask(directory, target_size=None):\n",
    "    \"\"\"Read and resize masks contained in a given directory.\"\"\"\n",
    "    for i,filename in enumerate(next(os.walk(directory))[2]):\n",
    "        mask_path = os.path.join(directory, filename)\n",
    "        mask_tmp = read_image(mask_path, cv2.IMREAD_GRAYSCALE, target_size)\n",
    "#         contour_tmp = get_contour(mask_tmp)\n",
    "        contour_tmp = get_gradient(mask_tmp)\n",
    "        if not i: \n",
    "            mask = mask_tmp\n",
    "            contour = contour_tmp\n",
    "        else: \n",
    "            mask = np.maximum(mask, mask_tmp)\n",
    "            contour = np.maximum(contour, contour_tmp)\n",
    "    return mask, contour\n",
    "\n",
    "def load_raw_data(image_size=(256, 256)):\n",
    "    save_name = '../data/dataset_{}x{}'.format(image_size[0],image_size[1])\n",
    "    save_path = save_name + '.npz'\n",
    "    \n",
    "#     if os.path.isfile(save_path):\n",
    "#         print('Reading from previously loaded data.')\n",
    "#         npzfile = np.load(save_path)\n",
    "#         return npzfile['X_train'], npzfile['Y_train'], npzfile['X_test']\n",
    "    \n",
    "    train_ids = next(os.walk(TRAIN_PATH))[1]\n",
    "    test_ids = next(os.walk(TEST_PATH))[1]\n",
    "    \n",
    "    print('Getting and resizing train images and masks ... ')\n",
    "    # TODO do we need dtype for these images?\n",
    "    X_train = np.zeros((len(train_ids), image_size[0], image_size[1], 3), dtype=np.uint8)\n",
    "    Y_train = np.zeros((len(train_ids), image_size[1], image_size[1]))\n",
    "    C_train = np.zeros((len(train_ids), image_size[1], image_size[1]))\n",
    "    sys.stdout.flush()\n",
    "    for n, id_ in tqdm(enumerate(train_ids), total=len(train_ids)):\n",
    "        path = TRAIN_PATH + id_\n",
    "        img = read_image(path + '/images/' + id_ + '.png', target_size=image_size)\n",
    "        mask, contour = read_mask(path + '/masks/', target_size=image_size)\n",
    "        X_train[n] = img\n",
    "        Y_train[n] = mask\n",
    "        C_train[n] = contour\n",
    "#         plots([img, mask, contour])\n",
    "\n",
    "    Y_train = np.expand_dims(Y_train, axis=4)\n",
    "    C_train = np.expand_dims(C_train, axis=4)\n",
    "        \n",
    "    print('Getting and resizing test images ... ')\n",
    "    sys.stdout.flush()\n",
    "    X_test = np.zeros((len(test_ids), image_size[0], image_size[1], 3), dtype=np.uint8)\n",
    "    for n, id_ in tqdm(enumerate(test_ids), total=len(test_ids)):\n",
    "        path = TEST_PATH + id_\n",
    "        img = read_image(path + '/images/' + id_ + '.png', target_size=image_size)\n",
    "        X_test[n] = img\n",
    "\n",
    "    print('Saving to npz...')\n",
    "    np.savez_compressed(save_name, X_train=X_train, Y_train=Y_train, X_test=X_test)\n",
    "    print('Done!')\n",
    "    return X_train, Y_train, C_train, X_test"
   ]
  },
  {
   "cell_type": "code",
   "execution_count": 90,
   "metadata": {
    "scrolled": true
   },
   "outputs": [
    {
     "name": "stdout",
     "output_type": "stream",
     "text": [
      "Getting and resizing train images and masks ... \n"
     ]
    },
    {
     "name": "stderr",
     "output_type": "stream",
     "text": [
      "\n",
      "  0%|          | 0/670 [00:00<?, ?it/s]\u001b[A\n",
      "  0%|          | 1/670 [00:00<01:58,  5.63it/s]\u001b[A\n",
      "  0%|          | 2/670 [00:00<02:15,  4.92it/s]\u001b[A\n",
      "  0%|          | 3/670 [00:00<03:18,  3.35it/s]\u001b[A\n",
      "  1%|          | 4/670 [00:01<04:00,  2.77it/s]\u001b[A\n",
      "  1%|          | 6/670 [00:01<02:57,  3.74it/s]\u001b[A\n",
      "  1%|          | 7/670 [00:02<03:09,  3.49it/s]\u001b[A\n",
      "  1%|          | 8/670 [00:02<03:00,  3.68it/s]\u001b[A\n",
      "  1%|▏         | 9/670 [00:02<02:47,  3.94it/s]\u001b[A\n",
      "  1%|▏         | 10/670 [00:02<02:41,  4.08it/s]\u001b[A\n",
      "  2%|▏         | 11/670 [00:02<02:34,  4.27it/s]\u001b[A\n",
      "  2%|▏         | 12/670 [00:03<03:06,  3.53it/s]\u001b[A\n",
      "  2%|▏         | 13/670 [00:03<03:16,  3.35it/s]\u001b[A\n",
      "  2%|▏         | 14/670 [00:04<03:08,  3.47it/s]\u001b[A\n",
      "  2%|▏         | 15/670 [00:04<03:03,  3.57it/s]\u001b[A\n",
      "  2%|▏         | 16/670 [00:04<02:58,  3.67it/s]\u001b[A\n",
      "  3%|▎         | 17/670 [00:04<02:52,  3.80it/s]\u001b[A\n",
      "  3%|▎         | 18/670 [00:04<02:49,  3.84it/s]\u001b[A\n",
      "  3%|▎         | 21/670 [00:04<02:28,  4.36it/s]\u001b[A\n",
      "Exception in thread Thread-18:\n",
      "Traceback (most recent call last):\n",
      "  File \"/Users/ouyangjiahong/anaconda3/lib/python3.6/threading.py\", line 916, in _bootstrap_inner\n",
      "    self.run()\n",
      "  File \"/Users/ouyangjiahong/anaconda3/lib/python3.6/site-packages/tqdm/_tqdm.py\", line 148, in run\n",
      "    for instance in self.tqdm_cls._instances:\n",
      "  File \"/Users/ouyangjiahong/anaconda3/lib/python3.6/_weakrefset.py\", line 60, in __iter__\n",
      "    for itemref in self.data:\n",
      "RuntimeError: Set changed size during iteration\n",
      "\n",
      "\n"
     ]
    },
    {
     "ename": "SystemError",
     "evalue": "<built-in function GradientMagnitudeRecursiveGaussianImageFilter_Execute> returned a result with an error set",
     "output_type": "error",
     "traceback": [
      "\u001b[0;31m---------------------------------------------------------------------------\u001b[0m",
      "\u001b[0;31mKeyboardInterrupt\u001b[0m                         Traceback (most recent call last)",
      "\u001b[0;32m~/anaconda3/lib/python3.6/site-packages/SimpleITK/SimpleITK.py\u001b[0m in \u001b[0;36m<lambda>\u001b[0;34m(self, name, value)\u001b[0m\n\u001b[1;32m   3667\u001b[0m     \u001b[0m__swig_setmethods__\u001b[0m \u001b[0;34m=\u001b[0m \u001b[0;34m{\u001b[0m\u001b[0;34m}\u001b[0m\u001b[0;34m\u001b[0m\u001b[0m\n\u001b[0;32m-> 3668\u001b[0;31m     \u001b[0m__setattr__\u001b[0m \u001b[0;34m=\u001b[0m \u001b[0;32mlambda\u001b[0m \u001b[0mself\u001b[0m\u001b[0;34m,\u001b[0m \u001b[0mname\u001b[0m\u001b[0;34m,\u001b[0m \u001b[0mvalue\u001b[0m\u001b[0;34m:\u001b[0m \u001b[0m_swig_setattr\u001b[0m\u001b[0;34m(\u001b[0m\u001b[0mself\u001b[0m\u001b[0;34m,\u001b[0m \u001b[0mImage\u001b[0m\u001b[0;34m,\u001b[0m \u001b[0mname\u001b[0m\u001b[0;34m,\u001b[0m \u001b[0mvalue\u001b[0m\u001b[0;34m)\u001b[0m\u001b[0;34m\u001b[0m\u001b[0m\n\u001b[0m\u001b[1;32m   3669\u001b[0m     \u001b[0m__swig_getmethods__\u001b[0m \u001b[0;34m=\u001b[0m \u001b[0;34m{\u001b[0m\u001b[0;34m}\u001b[0m\u001b[0;34m\u001b[0m\u001b[0m\n",
      "\u001b[0;31mKeyboardInterrupt\u001b[0m: ",
      "\nThe above exception was the direct cause of the following exception:\n",
      "\u001b[0;31mSystemError\u001b[0m                               Traceback (most recent call last)",
      "\u001b[0;32m<ipython-input-90-c75adba0fa3f>\u001b[0m in \u001b[0;36m<module>\u001b[0;34m()\u001b[0m\n\u001b[1;32m      2\u001b[0m \u001b[0mIMG_WIDTH\u001b[0m \u001b[0;34m=\u001b[0m \u001b[0;36m256\u001b[0m\u001b[0;34m\u001b[0m\u001b[0m\n\u001b[1;32m      3\u001b[0m \u001b[0;34m\u001b[0m\u001b[0m\n\u001b[0;32m----> 4\u001b[0;31m \u001b[0mX_train\u001b[0m\u001b[0;34m,\u001b[0m \u001b[0mY_train\u001b[0m\u001b[0;34m,\u001b[0m \u001b[0mC_train\u001b[0m\u001b[0;34m,\u001b[0m \u001b[0mX_test\u001b[0m \u001b[0;34m=\u001b[0m \u001b[0mload_raw_data\u001b[0m\u001b[0;34m(\u001b[0m\u001b[0mimage_size\u001b[0m\u001b[0;34m=\u001b[0m\u001b[0;34m(\u001b[0m\u001b[0mIMG_HEIGHT\u001b[0m\u001b[0;34m,\u001b[0m \u001b[0mIMG_WIDTH\u001b[0m\u001b[0;34m)\u001b[0m\u001b[0;34m)\u001b[0m\u001b[0;34m\u001b[0m\u001b[0m\n\u001b[0m",
      "\u001b[0;32m<ipython-input-89-3f8d67fb1ceb>\u001b[0m in \u001b[0;36mload_raw_data\u001b[0;34m(image_size)\u001b[0m\n\u001b[1;32m     44\u001b[0m         \u001b[0mpath\u001b[0m \u001b[0;34m=\u001b[0m \u001b[0mTRAIN_PATH\u001b[0m \u001b[0;34m+\u001b[0m \u001b[0mid_\u001b[0m\u001b[0;34m\u001b[0m\u001b[0m\n\u001b[1;32m     45\u001b[0m         \u001b[0mimg\u001b[0m \u001b[0;34m=\u001b[0m \u001b[0mread_image\u001b[0m\u001b[0;34m(\u001b[0m\u001b[0mpath\u001b[0m \u001b[0;34m+\u001b[0m \u001b[0;34m'/images/'\u001b[0m \u001b[0;34m+\u001b[0m \u001b[0mid_\u001b[0m \u001b[0;34m+\u001b[0m \u001b[0;34m'.png'\u001b[0m\u001b[0;34m,\u001b[0m \u001b[0mtarget_size\u001b[0m\u001b[0;34m=\u001b[0m\u001b[0mimage_size\u001b[0m\u001b[0;34m)\u001b[0m\u001b[0;34m\u001b[0m\u001b[0m\n\u001b[0;32m---> 46\u001b[0;31m         \u001b[0mmask\u001b[0m\u001b[0;34m,\u001b[0m \u001b[0mcontour\u001b[0m \u001b[0;34m=\u001b[0m \u001b[0mread_mask\u001b[0m\u001b[0;34m(\u001b[0m\u001b[0mpath\u001b[0m \u001b[0;34m+\u001b[0m \u001b[0;34m'/masks/'\u001b[0m\u001b[0;34m,\u001b[0m \u001b[0mtarget_size\u001b[0m\u001b[0;34m=\u001b[0m\u001b[0mimage_size\u001b[0m\u001b[0;34m)\u001b[0m\u001b[0;34m\u001b[0m\u001b[0m\n\u001b[0m\u001b[1;32m     47\u001b[0m         \u001b[0mX_train\u001b[0m\u001b[0;34m[\u001b[0m\u001b[0mn\u001b[0m\u001b[0;34m]\u001b[0m \u001b[0;34m=\u001b[0m \u001b[0mimg\u001b[0m\u001b[0;34m\u001b[0m\u001b[0m\n\u001b[1;32m     48\u001b[0m         \u001b[0mY_train\u001b[0m\u001b[0;34m[\u001b[0m\u001b[0mn\u001b[0m\u001b[0;34m]\u001b[0m \u001b[0;34m=\u001b[0m \u001b[0mmask\u001b[0m\u001b[0;34m\u001b[0m\u001b[0m\n",
      "\u001b[0;32m<ipython-input-89-3f8d67fb1ceb>\u001b[0m in \u001b[0;36mread_mask\u001b[0;34m(directory, target_size)\u001b[0m\n\u001b[1;32m     14\u001b[0m         \u001b[0mmask_tmp\u001b[0m \u001b[0;34m=\u001b[0m \u001b[0mread_image\u001b[0m\u001b[0;34m(\u001b[0m\u001b[0mmask_path\u001b[0m\u001b[0;34m,\u001b[0m \u001b[0mcv2\u001b[0m\u001b[0;34m.\u001b[0m\u001b[0mIMREAD_GRAYSCALE\u001b[0m\u001b[0;34m,\u001b[0m \u001b[0mtarget_size\u001b[0m\u001b[0;34m)\u001b[0m\u001b[0;34m\u001b[0m\u001b[0m\n\u001b[1;32m     15\u001b[0m \u001b[0;31m#         contour_tmp = get_contour(mask_tmp)\u001b[0m\u001b[0;34m\u001b[0m\u001b[0;34m\u001b[0m\u001b[0m\n\u001b[0;32m---> 16\u001b[0;31m         \u001b[0mcontour_tmp\u001b[0m \u001b[0;34m=\u001b[0m \u001b[0mget_gradient\u001b[0m\u001b[0;34m(\u001b[0m\u001b[0mmask_tmp\u001b[0m\u001b[0;34m)\u001b[0m\u001b[0;34m\u001b[0m\u001b[0m\n\u001b[0m\u001b[1;32m     17\u001b[0m         \u001b[0;32mif\u001b[0m \u001b[0;32mnot\u001b[0m \u001b[0mi\u001b[0m\u001b[0;34m:\u001b[0m\u001b[0;34m\u001b[0m\u001b[0m\n\u001b[1;32m     18\u001b[0m             \u001b[0mmask\u001b[0m \u001b[0;34m=\u001b[0m \u001b[0mmask_tmp\u001b[0m\u001b[0;34m\u001b[0m\u001b[0m\n",
      "\u001b[0;32m<ipython-input-88-35d478d6424b>\u001b[0m in \u001b[0;36mget_gradient\u001b[0;34m(img_arr)\u001b[0m\n\u001b[1;32m      5\u001b[0m     \u001b[0mgradFilter\u001b[0m \u001b[0;34m=\u001b[0m \u001b[0msitk\u001b[0m\u001b[0;34m.\u001b[0m\u001b[0mGradientMagnitudeRecursiveGaussianImageFilter\u001b[0m\u001b[0;34m(\u001b[0m\u001b[0;34m)\u001b[0m\u001b[0;34m\u001b[0m\u001b[0m\n\u001b[1;32m      6\u001b[0m     \u001b[0mgradFilter\u001b[0m\u001b[0;34m.\u001b[0m\u001b[0mSetSigma\u001b[0m\u001b[0;34m(\u001b[0m\u001b[0;36m1.0\u001b[0m\u001b[0;34m)\u001b[0m\u001b[0;34m\u001b[0m\u001b[0m\n\u001b[0;32m----> 7\u001b[0;31m     \u001b[0mimg_gradient\u001b[0m \u001b[0;34m=\u001b[0m \u001b[0mgradFilter\u001b[0m\u001b[0;34m.\u001b[0m\u001b[0mExecute\u001b[0m\u001b[0;34m(\u001b[0m\u001b[0mimg\u001b[0m\u001b[0;34m)\u001b[0m\u001b[0;34m\u001b[0m\u001b[0m\n\u001b[0m\u001b[1;32m      8\u001b[0m \u001b[0;34m\u001b[0m\u001b[0m\n\u001b[1;32m      9\u001b[0m     \u001b[0mrescaleFilter\u001b[0m \u001b[0;34m=\u001b[0m \u001b[0msitk\u001b[0m\u001b[0;34m.\u001b[0m\u001b[0mRescaleIntensityImageFilter\u001b[0m\u001b[0;34m(\u001b[0m\u001b[0;34m)\u001b[0m\u001b[0;34m\u001b[0m\u001b[0m\n",
      "\u001b[0;32m~/anaconda3/lib/python3.6/site-packages/SimpleITK/SimpleITK.py\u001b[0m in \u001b[0;36mExecute\u001b[0;34m(self, *args)\u001b[0m\n\u001b[1;32m  31336\u001b[0m \u001b[0;34m\u001b[0m\u001b[0m\n\u001b[1;32m  31337\u001b[0m         \"\"\"\n\u001b[0;32m> 31338\u001b[0;31m         \u001b[0;32mreturn\u001b[0m \u001b[0m_SimpleITK\u001b[0m\u001b[0;34m.\u001b[0m\u001b[0mGradientMagnitudeRecursiveGaussianImageFilter_Execute\u001b[0m\u001b[0;34m(\u001b[0m\u001b[0mself\u001b[0m\u001b[0;34m,\u001b[0m \u001b[0;34m*\u001b[0m\u001b[0margs\u001b[0m\u001b[0;34m)\u001b[0m\u001b[0;34m\u001b[0m\u001b[0m\n\u001b[0m\u001b[1;32m  31339\u001b[0m \u001b[0;34m\u001b[0m\u001b[0m\n\u001b[1;32m  31340\u001b[0m \u001b[0mGradientMagnitudeRecursiveGaussianImageFilter_swigregister\u001b[0m \u001b[0;34m=\u001b[0m \u001b[0m_SimpleITK\u001b[0m\u001b[0;34m.\u001b[0m\u001b[0mGradientMagnitudeRecursiveGaussianImageFilter_swigregister\u001b[0m\u001b[0;34m\u001b[0m\u001b[0m\n",
      "\u001b[0;31mSystemError\u001b[0m: <built-in function GradientMagnitudeRecursiveGaussianImageFilter_Execute> returned a result with an error set"
     ]
    }
   ],
   "source": [
    "IMG_HEIGHT = 256\n",
    "IMG_WIDTH = 256\n",
    "\n",
    "X_train, Y_train, C_train, X_test = load_raw_data(image_size=(IMG_HEIGHT, IMG_WIDTH))"
   ]
  },
  {
   "cell_type": "code",
   "execution_count": 81,
   "metadata": {},
   "outputs": [
    {
     "data": {
      "image/png": "[encoded data removed]",
      "text/plain": [
       "<matplotlib.figure.Figure at 0x1c29694cc0>"
      ]
     },
     "metadata": {},
     "output_type": "display_data"
    }
   ],
   "source": [
    "idx = random.randint(1, X_train.shape[0])\n",
    "plots([X_train[idx], Y_train[idx], C_train[idx]])\n",
    "# print(sum(X_test[12]))"
   ]
  },
  {
   "cell_type": "code",
   "execution_count": null,
   "metadata": {
    "collapsed": true
   },
   "outputs": [],
   "source": [
    "def preprocess_raw_data(x_train, y_train, x_test, grayscale=False, invert=False):\n",
    "    pass"
   ]
  }
 ],
 "metadata": {
  "kernelspec": {
   "display_name": "Python 3",
   "language": "python",
   "name": "python3"
  },
  "language_info": {
   "codemirror_mode": {
    "name": "ipython",
    "version": 3
   },
   "file_extension": ".py",
   "mimetype": "text/x-python",
   "name": "python",
   "nbconvert_exporter": "python",
   "pygments_lexer": "ipython3",
   "version": "3.6.3"
  }
 },
 "nbformat": 4,
 "nbformat_minor": 2
}
