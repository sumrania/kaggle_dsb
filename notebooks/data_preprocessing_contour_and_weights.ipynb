{
 "cells": [
  {
   "cell_type": "code",
   "execution_count": 1,
   "metadata": {
    "collapsed": true
   },
   "outputs": [],
   "source": [
    "import os, sys\n",
    "import numpy as np\n",
    "import matplotlib.pyplot as plt\n",
    "import random\n",
    "\n",
    "import cv2\n",
    "from skimage import io\n",
    "from skimage.io import imread, imshow, imread_collection, concatenate_images\n",
    "from skimage.transform import resize\n",
    "from skimage.morphology import label\n",
    "from skimage.color import rgb2gray\n",
    "from tqdm import tqdm\n",
    "\n",
    "import SimpleITK as sitk\n",
    "import pylab\n",
    "\n",
    "from skimage import io, transform, morphology, filters\n",
    "from scipy import ndimage\n",
    "\n",
    "%matplotlib inline \n",
    "\n",
    "TRAIN_PATH = '../data/stage1_train/'\n",
    "TEST_PATH = '../data/stage1_test/'"
   ]
  },
  {
   "cell_type": "code",
   "execution_count": 3,
   "metadata": {
    "collapsed": true
   },
   "outputs": [],
   "source": [
    "# Utility function for plotting multiple images\n",
    "def plots(imgs, figsize=(12,6), rows=1, title=None, titles=None):\n",
    "    f = plt.figure(figsize=figsize)\n",
    "    if title is not None: plt.title(title)\n",
    "    for i in range(len(imgs)):\n",
    "        sp = f.add_subplot(rows, len(imgs)//rows, i+1)\n",
    "        sp.axis('Off')\n",
    "        if titles is not None: sp.set_title(titles[i], fontsize=8)\n",
    "        plt.imshow(np.squeeze(imgs[i]), cmap='gray')"
   ]
  },
  {
   "cell_type": "code",
   "execution_count": 4,
   "metadata": {
    "collapsed": true
   },
   "outputs": [],
   "source": [
    "# need to install SimpleITK\n",
    "# `python -m pip install SimpleITK`\n",
    "# https://itk.org/Doxygen/html/classitk_1_1BinaryContourImageFilter.html#a0e8485c516ceefbb4408198cc302f869\n",
    "# part of the contour miss\n",
    "def get_contour(img_arr):\n",
    "    idx = img_arr > 128\n",
    "    img_arr[idx] = 255\n",
    "    idx = img_arr < 128\n",
    "    img_arr[idx] = 0\n",
    "    img = sitk.GetImageFromArray(img_arr)\n",
    "    binaryContourFilter = sitk.BinaryContourImageFilter()\n",
    "    binaryContourFilter.SetForegroundValue(255)\n",
    "    binaryContourFilter.SetBackgroundValue(0)\n",
    "    binaryContourFilter.SetFullyConnected(True)\n",
    "    img_contour = binaryContourFilter.Execute(img)\n",
    "    return sitk.GetArrayFromImage(img_contour)"
   ]
  },
  {
   "cell_type": "code",
   "execution_count": 5,
   "metadata": {
    "collapsed": true
   },
   "outputs": [],
   "source": [
    "# need to install SimpleITK\n",
    "def get_gradient(img_arr):\n",
    "    img = sitk.GetImageFromArray(img_arr)\n",
    "    \n",
    "    gradFilter = sitk.GradientMagnitudeRecursiveGaussianImageFilter()\n",
    "    gradFilter.SetSigma(1.0)\n",
    "    img_gradient = gradFilter.Execute(img)\n",
    "    \n",
    "    rescaleFilter = sitk.RescaleIntensityImageFilter()\n",
    "    rescaleFilter.SetOutputMinimum(0)\n",
    "    rescaleFilter.SetOutputMaximum(255)\n",
    "    img_gradient = rescaleFilter.Execute(img_gradient)\n",
    "    return sitk.GetArrayFromImage(img_gradient)"
   ]
  },
  {
   "cell_type": "code",
   "execution_count": 6,
   "metadata": {
    "collapsed": true
   },
   "outputs": [],
   "source": [
    "def calculate_unet_background_weight(merged_mask, masks, w0=10, q=5,):\n",
    "    weight = np.zeros(merged_mask.shape)\n",
    "    # calculate weight for important pixels\n",
    "    distances = np.array([ndimage.distance_transform_edt(m==0) for m in masks])\n",
    "    shortest_dist = np.sort(distances, axis=0)\n",
    "    # distance to the border of the nearest cell \n",
    "    d1 = shortest_dist[0]\n",
    "    # distance to the border of the second nearest cell\n",
    "    d2 = shortest_dist[1] if len(shortest_dist) > 1 else np.zeros(d1.shape)\n",
    "\n",
    "    weight = w0 * np.exp(-(d1+d2)**2/(2*q**2)).astype(np.float32)\n",
    "    weight = 1 + (merged_mask == 0) * weight\n",
    "    return weight"
   ]
  },
  {
   "cell_type": "code",
   "execution_count": 7,
   "metadata": {
    "collapsed": true
   },
   "outputs": [],
   "source": [
    "# Reading and pre-processing mainly based on:\n",
    "# https://www.kaggle.com/raoulma/nuclei-dsb-2018-tensorflow-u-net-score-0-352\n",
    "def read_image(filepath, color_mode=cv2.IMREAD_COLOR, target_size=None):\n",
    "    \"\"\"Read an image from a file and resize it.\"\"\"\n",
    "    img = cv2.imread(filepath, color_mode)\n",
    "#     print(filepath)\n",
    "    if target_size: \n",
    "        img = cv2.resize(img, target_size, interpolation=cv2.INTER_AREA)\n",
    "    return img\n",
    "\n",
    "def read_mask(directory, target_size=None):\n",
    "    \"\"\"Read and resize masks contained in a given directory.\"\"\"\n",
    "    masks = []\n",
    "    for i,filename in enumerate(next(os.walk(directory))[2]):\n",
    "        mask_path = os.path.join(directory, filename)\n",
    "        mask_tmp = read_image(mask_path, cv2.IMREAD_GRAYSCALE, target_size)\n",
    "        masks.append(mask_tmp)\n",
    "        contour_tmp = get_gradient(mask_tmp)\n",
    "        if i == 0: \n",
    "            merged_mask = mask_tmp\n",
    "            contour = contour_tmp\n",
    "        else: \n",
    "            merged_mask = np.maximum(merged_mask, mask_tmp)\n",
    "            contour = np.maximum(contour, contour_tmp)\n",
    "    weights = calculate_unet_background_weight(merged_mask, masks)\n",
    "    return merged_mask, contour, weights\n",
    "\n",
    "def load_raw_data(image_size=(256, 256)):\n",
    "    save_name = '../data/dataset_{}x{}'.format(image_size[0],image_size[1])\n",
    "    save_path = save_name + '.npz'\n",
    "    \n",
    "#     if os.path.isfile(save_path):\n",
    "#         print('Reading from previously loaded data.')\n",
    "#         npzfile = np.load(save_path)\n",
    "#         return npzfile['X_train'], npzfile['Y_train'], npzfile['C_train'], npzfile['W_train'], npzfile['X_test']\n",
    "    \n",
    "    train_ids = next(os.walk(TRAIN_PATH))[1]\n",
    "    test_ids = next(os.walk(TEST_PATH))[1]\n",
    "    \n",
    "    print('Getting and resizing train images and masks ... ')\n",
    "    # TODO do we need dtype for these images?\n",
    "    X_train = np.zeros((len(train_ids), image_size[0], image_size[1], 3), dtype=np.uint8)\n",
    "    Y_train = np.zeros((len(train_ids), image_size[1], image_size[1]))\n",
    "    C_train = np.zeros((len(train_ids), image_size[1], image_size[1]))\n",
    "    W_train = np.zeros((len(train_ids), image_size[1], image_size[1]))\n",
    "    sys.stdout.flush()\n",
    "    for n, id_ in tqdm(enumerate(train_ids), total=len(train_ids)):\n",
    "        path = TRAIN_PATH + id_\n",
    "        img = read_image(path + '/images/' + id_ + '.png', target_size=image_size)\n",
    "        mask, contour, weights = read_mask(path + '/masks/', target_size=image_size)\n",
    "        X_train[n] = img\n",
    "        Y_train[n] = mask\n",
    "        C_train[n] = contour\n",
    "        W_train[n] = weights\n",
    "\n",
    "    Y_train = np.expand_dims(Y_train, axis=4)\n",
    "    C_train = np.expand_dims(C_train, axis=4)\n",
    "        \n",
    "    print('Getting and resizing test images ... ')\n",
    "    sys.stdout.flush()\n",
    "    X_test = np.zeros((len(test_ids), image_size[0], image_size[1], 3), dtype=np.uint8)\n",
    "    for n, id_ in tqdm(enumerate(test_ids), total=len(test_ids)):\n",
    "        path = TEST_PATH + id_\n",
    "        img = read_image(path + '/images/' + id_ + '.png', target_size=image_size)\n",
    "        X_test[n] = img\n",
    "\n",
    "    print('Saving to npz...')\n",
    "    np.savez_compressed(save_name, X_train=X_train, Y_train=Y_train, C_train=C_train, W_train=W_train, X_test=X_test)\n",
    "    print('Done!')\n",
    "    return X_train, Y_train, C_train, W_train, X_test"
   ]
  },
  {
   "cell_type": "code",
   "execution_count": null,
   "metadata": {
    "scrolled": true
   },
   "outputs": [
    {
     "name": "stdout",
     "output_type": "stream",
     "text": [
      "Getting and resizing train images and masks ... \n"
     ]
    },
    {
     "name": "stderr",
     "output_type": "stream",
     "text": [
      " 56%|█████▋    | 377/670 [05:31<03:43,  1.31it/s]"
     ]
    }
   ],
   "source": [
    "IMG_HEIGHT = 256\n",
    "IMG_WIDTH = 256\n",
    "\n",
    "X_train, Y_train, C_train, W_train, X_test = load_raw_data(image_size=(IMG_HEIGHT, IMG_WIDTH))"
   ]
  },
  {
   "cell_type": "code",
   "execution_count": 12,
   "metadata": {
    "collapsed": true
   },
   "outputs": [],
   "source": [
    "def load_raw_data(data_path, image_size=(256, 256)):\n",
    "    print('Reading from previously loaded data.')\n",
    "    npzfile = np.load(data_path)\n",
    "    return npzfile['X_train'], npzfile['Y_train'], npzfile['C_train'], npzfile['W_train'], npzfile['X_test']"
   ]
  },
  {
   "cell_type": "code",
   "execution_count": 13,
   "metadata": {
    "scrolled": true
   },
   "outputs": [
    {
     "name": "stdout",
     "output_type": "stream",
     "text": [
      "Reading from previously loaded data.\n"
     ]
    }
   ],
   "source": [
    "X_train, Y_train, C_train, W_train, X_test = load_raw_data('../data/dataset_256x256.npz', image_size=(256, 256))"
   ]
  },
  {
   "cell_type": "code",
   "execution_count": 16,
   "metadata": {
    "scrolled": false
   },
   "outputs": [
    {
     "data": {
      "image/png": "[encoded data removed]",
      "text/plain": [
       "<matplotlib.figure.Figure at 0x11245f710>"
      ]
     },
     "metadata": {},
     "output_type": "display_data"
    }
   ],
   "source": [
    "idx = random.randint(1, X_train.shape[0])\n",
    "plots([X_train[idx], Y_train[idx], C_train[idx], W_train[idx]])"
   ]
  },
  {
   "cell_type": "code",
   "execution_count": null,
   "metadata": {
    "collapsed": true
   },
   "outputs": [],
   "source": []
  }
 ],
 "metadata": {
  "kernelspec": {
   "display_name": "Python 3",
   "language": "python",
   "name": "python3"
  },
  "language_info": {
   "codemirror_mode": {
    "name": "ipython",
    "version": 3
   },
   "file_extension": ".py",
   "mimetype": "text/x-python",
   "name": "python",
   "nbconvert_exporter": "python",
   "pygments_lexer": "ipython3",
   "version": "3.6.1"
  }
 },
 "nbformat": 4,
 "nbformat_minor": 2
}
