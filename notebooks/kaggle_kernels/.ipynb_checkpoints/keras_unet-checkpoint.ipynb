{
 "cells": [
  {
   "cell_type": "markdown",
   "metadata": {
    "_cell_guid": "e61ef2d8-f315-4f7f-b07e-1de0f4e8441a",
    "_uuid": "1677fddbb95f7545b6540e9201f3339a0fdbfc5d"
   },
   "source": [
    "# Intro\n",
    "Hello! This rather quick and dirty kernel shows how to get started on segmenting nuclei using a neural network in Keras. \n",
    "\n",
    "The architecture used is the so-called [U-Net](https://arxiv.org/abs/1505.04597), which is very common for image segmentation problems such as this. I believe they also have a tendency to work quite well even on small datasets.\n",
    "\n",
    "Let's get started importing everything we need!"
   ]
  },
  {
   "cell_type": "code",
   "execution_count": 6,
   "metadata": {
    "_cell_guid": "c332549b-8d23-4bb5-8497-e7a8eb8b21d2",
    "_uuid": "5c38504af3a84bee68c66d3cde74443c58df422f",
    "collapsed": true
   },
   "outputs": [],
   "source": [
    "import os\n",
    "import sys\n",
    "import random\n",
    "import warnings\n",
    "\n",
    "import numpy as np\n",
    "import pandas as pd\n",
    "\n",
    "import matplotlib.pyplot as plt\n",
    "\n",
    "from tqdm import tqdm\n",
    "from itertools import chain\n",
    "from skimage.io import imread, imshow, imread_collection, concatenate_images\n",
    "from skimage.transform import resize\n",
    "from skimage.morphology import label\n",
    "\n",
    "from keras.models import Model, load_model\n",
    "from keras.layers import Input\n",
    "from keras.layers.core import Dropout, Lambda\n",
    "from keras.layers.convolutional import Conv2D, Conv2DTranspose\n",
    "from keras.layers.pooling import MaxPooling2D\n",
    "from keras.layers.merge import concatenate\n",
    "from keras.callbacks import EarlyStopping, ModelCheckpoint\n",
    "from keras import backend as K\n",
    "\n",
    "import tensorflow as tf\n",
    "\n",
    "# Set some parameters\n",
    "IMG_WIDTH = 128\n",
    "IMG_HEIGHT = 128\n",
    "IMG_CHANNELS = 3\n",
    "TRAIN_PATH = '../../data/stage1_train/'\n",
    "TEST_PATH = '../../data/stage1_test/'\n",
    "\n",
    "warnings.filterwarnings('ignore', category=UserWarning, module='skimage')\n",
    "seed = 42\n",
    "random.seed = seed\n",
    "np.random.seed = seed"
   ]
  },
  {
   "cell_type": "code",
   "execution_count": 7,
   "metadata": {
    "_cell_guid": "ffa0caf0-2d1b-40f2-865b-8e6db88526b6",
    "_uuid": "3fb9d6530fbbd0e22e41fc4fd9fd9fc0bff027ac",
    "collapsed": true
   },
   "outputs": [],
   "source": [
    "# Get train and test IDs\n",
    "train_ids = next(os.walk(TRAIN_PATH))[1]\n",
    "test_ids = next(os.walk(TEST_PATH))[1]"
   ]
  },
  {
   "cell_type": "markdown",
   "metadata": {
    "_cell_guid": "59c4a25d-645f-4b74-9c53-145ac78cc481",
    "_uuid": "875af74f980236825de3a650825b46e25632422c"
   },
   "source": [
    "# Get the data\n",
    "Let's first import all the images and associated masks. I downsample both the training and test images to keep things light and manageable, but we need to keep a record of the original sizes of the test images to upsample our predicted masks and create correct run-length encodings later on. There are definitely better ways to handle this, but it works fine for now!"
   ]
  },
  {
   "cell_type": "code",
   "execution_count": 8,
   "metadata": {
    "_cell_guid": "ca0cc34b-c26f-41ee-88d7-975aebdb634e",
    "_uuid": "9e389ba8bdb5b6fc03b231b6a6c84a8bde634053"
   },
   "outputs": [
    {
     "name": "stdout",
     "output_type": "stream",
     "text": [
      "Getting and resizing train images and masks ... \n"
     ]
    },
    {
     "name": "stderr",
     "output_type": "stream",
     "text": [
      "100%|██████████| 670/670 [05:09<00:00,  2.55it/s]"
     ]
    },
    {
     "name": "stdout",
     "output_type": "stream",
     "text": [
      "Getting and resizing test images ... \n"
     ]
    },
    {
     "name": "stderr",
     "output_type": "stream",
     "text": [
      "\n",
      "100%|██████████| 65/65 [00:05<00:00, 11.29it/s]"
     ]
    },
    {
     "name": "stdout",
     "output_type": "stream",
     "text": [
      "Done!\n"
     ]
    },
    {
     "name": "stderr",
     "output_type": "stream",
     "text": [
      "\n"
     ]
    }
   ],
   "source": [
    "# Get and resize train images and masks\n",
    "X_train = np.zeros((len(train_ids), IMG_HEIGHT, IMG_WIDTH, IMG_CHANNELS), dtype=np.uint8)\n",
    "Y_train = np.zeros((len(train_ids), IMG_HEIGHT, IMG_WIDTH, 1), dtype=np.bool)\n",
    "\n",
    "print('Getting and resizing train images and masks ... ')\n",
    "sys.stdout.flush()\n",
    "for n, id_ in tqdm(enumerate(train_ids), total=len(train_ids)):\n",
    "    path = TRAIN_PATH + id_\n",
    "    img = imread(path + '/images/' + id_ + '.png')[:,:,:IMG_CHANNELS]\n",
    "    img = resize(img, (IMG_HEIGHT, IMG_WIDTH), mode='constant', preserve_range=True)\n",
    "    X_train[n] = img\n",
    "    mask = np.zeros((IMG_HEIGHT, IMG_WIDTH, 1), dtype=np.bool)\n",
    "    for mask_file in next(os.walk(path + '/masks/'))[2]:\n",
    "        mask_ = imread(path + '/masks/' + mask_file)\n",
    "        mask_ = np.expand_dims(resize(mask_, (IMG_HEIGHT, IMG_WIDTH), mode='constant', \n",
    "                                      preserve_range=True), axis=-1)\n",
    "        mask = np.maximum(mask, mask_)\n",
    "    Y_train[n] = mask\n",
    "\n",
    "# Get and resize test images\n",
    "X_test = np.zeros((len(test_ids), IMG_HEIGHT, IMG_WIDTH, IMG_CHANNELS), dtype=np.uint8)\n",
    "sizes_test = []\n",
    "print('Getting and resizing test images ... ')\n",
    "sys.stdout.flush()\n",
    "for n, id_ in tqdm(enumerate(test_ids), total=len(test_ids)):\n",
    "    path = TEST_PATH + id_\n",
    "    img = imread(path + '/images/' + id_ + '.png')[:,:,:IMG_CHANNELS]\n",
    "    sizes_test.append([img.shape[0], img.shape[1]])\n",
    "    img = resize(img, (IMG_HEIGHT, IMG_WIDTH), mode='constant', preserve_range=True)\n",
    "    X_test[n] = img\n",
    "\n",
    "print('Done!')"
   ]
  },
  {
   "cell_type": "markdown",
   "metadata": {
    "_cell_guid": "c0523b03-1fc5-4505-a1b8-eb35ee617c8a",
    "_uuid": "d4f8327802a1ec6139ce0585953986272ba62ce1"
   },
   "source": [
    "Let's see if things look all right by drawing some random images and their associated masks."
   ]
  },
  {
   "cell_type": "code",
   "execution_count": 9,
   "metadata": {
    "_cell_guid": "88829b53-50ce-45d9-9540-77dd7384ad4c",
    "_uuid": "283af26f0860b7069bdfd133c746e5d20971542c"
   },
   "outputs": [
    {
     "name": "stderr",
     "output_type": "stream",
     "text": [
      "/Users/Kazu/anaconda/lib/python3.6/site-packages/skimage/io/_plugins/matplotlib_plugin.py:51: FutureWarning: Conversion of the second argument of issubdtype from `float` to `np.floating` is deprecated. In future, it will be treated as `np.float64 == np.dtype(float).type`.\n",
      "  out_of_range_float = (np.issubdtype(image.dtype, np.float) and\n"
     ]
    },
    {
     "data": {
      "image/png": "[encoded data removed]",
      "text/plain": [
       "<matplotlib.figure.Figure at 0x1c24898b00>"
      ]
     },
     "metadata": {},
     "output_type": "display_data"
    },
    {
     "data": {
      "image/png": "[encoded data removed]",
      "text/plain": [
       "<matplotlib.figure.Figure at 0x10c4cc860>"
      ]
     },
     "metadata": {},
     "output_type": "display_data"
    }
   ],
   "source": [
    "# Check if training data looks all right\n",
    "ix = random.randint(0, len(train_ids))\n",
    "imshow(X_train[ix])\n",
    "plt.show()\n",
    "imshow(np.squeeze(Y_train[ix]))\n",
    "plt.show()"
   ]
  },
  {
   "cell_type": "markdown",
   "metadata": {
    "_cell_guid": "2574ffe9-b911-4bfd-a00f-9ba5c25f45de",
    "_uuid": "938648da705689a0f940ff462477c801db3f0737"
   },
   "source": [
    "Seems good!\n",
    "\n",
    "# Create our Keras metric\n",
    "\n",
    "Now we try to define the *mean average precision at different intersection over union (IoU) thresholds* metric in Keras. TensorFlow has a mean IoU metric, but it doesn't have any native support for the mean over multiple thresholds, so I tried to implement this. **I'm by no means certain that this implementation is correct, though!** Any assistance in verifying this would be most welcome! \n",
    "\n",
    "*Update: This implementation is most definitely not correct due to the very large discrepancy between the results reported here and the LB results. It also seems to just increase over time no matter what when you train ... *"
   ]
  },
  {
   "cell_type": "code",
   "execution_count": 10,
   "metadata": {
    "_cell_guid": "c1df6f3a-d58f-434b-9216-ef7be38637d4",
    "_uuid": "5abd38950ae99b60f8afec7656eb654a48d449fe",
    "collapsed": true
   },
   "outputs": [],
   "source": [
    "# Define IoU metric\n",
    "def mean_iou(y_true, y_pred):\n",
    "    prec = []\n",
    "    for t in np.arange(0.5, 1.0, 0.05):\n",
    "        y_pred_ = tf.to_int32(y_pred > t)\n",
    "        score, up_opt = tf.metrics.mean_iou(y_true, y_pred_, 2)\n",
    "        K.get_session().run(tf.local_variables_initializer())\n",
    "        with tf.control_dependencies([up_opt]):\n",
    "            score = tf.identity(score)\n",
    "        prec.append(score)\n",
    "    return K.mean(K.stack(prec), axis=0)"
   ]
  },
  {
   "cell_type": "markdown",
   "metadata": {
    "_cell_guid": "c3b9f148-1dba-4b6a-981b-6cdbf394fc3c",
    "_uuid": "986488a4c5223576be370e224426a30431911eb2"
   },
   "source": [
    "# Build and train our neural network\n",
    "Next we build our U-Net model, loosely based on [U-Net: Convolutional Networks for Biomedical Image Segmentation](https://arxiv.org/pdf/1505.04597.pdf) and very similar to [this repo](https://github.com/jocicmarko/ultrasound-nerve-segmentation) from the Kaggle Ultrasound Nerve Segmentation competition.\n",
    "\n",
    "![](https://lmb.informatik.uni-freiburg.de/people/ronneber/u-net/u-net-architecture.png)"
   ]
  },
  {
   "cell_type": "code",
   "execution_count": 12,
   "metadata": {
    "_cell_guid": "c1dbc57c-b497-4ccb-b077-2053203ab7ed",
    "_uuid": "0aa97d66c29f45dfac9b0f45fcf74ba0e778ba5d"
   },
   "outputs": [
    {
     "name": "stdout",
     "output_type": "stream",
     "text": [
      "__________________________________________________________________________________________________\n",
      "Layer (type)                    Output Shape         Param #     Connected to                     \n",
      "==================================================================================================\n",
      "input_2 (InputLayer)            (None, 128, 128, 3)  0                                            \n",
      "__________________________________________________________________________________________________\n",
      "lambda_2 (Lambda)               (None, 128, 128, 3)  0           input_2[0][0]                    \n",
      "__________________________________________________________________________________________________\n",
      "conv2d_20 (Conv2D)              (None, 128, 128, 16) 448         lambda_2[0][0]                   \n",
      "__________________________________________________________________________________________________\n",
      "dropout_10 (Dropout)            (None, 128, 128, 16) 0           conv2d_20[0][0]                  \n",
      "__________________________________________________________________________________________________\n",
      "conv2d_21 (Conv2D)              (None, 128, 128, 16) 2320        dropout_10[0][0]                 \n",
      "__________________________________________________________________________________________________\n",
      "max_pooling2d_5 (MaxPooling2D)  (None, 64, 64, 16)   0           conv2d_21[0][0]                  \n",
      "__________________________________________________________________________________________________\n",
      "conv2d_22 (Conv2D)              (None, 64, 64, 32)   4640        max_pooling2d_5[0][0]            \n",
      "__________________________________________________________________________________________________\n",
      "dropout_11 (Dropout)            (None, 64, 64, 32)   0           conv2d_22[0][0]                  \n",
      "__________________________________________________________________________________________________\n",
      "conv2d_23 (Conv2D)              (None, 64, 64, 32)   9248        dropout_11[0][0]                 \n",
      "__________________________________________________________________________________________________\n",
      "max_pooling2d_6 (MaxPooling2D)  (None, 32, 32, 32)   0           conv2d_23[0][0]                  \n",
      "__________________________________________________________________________________________________\n",
      "conv2d_24 (Conv2D)              (None, 32, 32, 64)   18496       max_pooling2d_6[0][0]            \n",
      "__________________________________________________________________________________________________\n",
      "dropout_12 (Dropout)            (None, 32, 32, 64)   0           conv2d_24[0][0]                  \n",
      "__________________________________________________________________________________________________\n",
      "conv2d_25 (Conv2D)              (None, 32, 32, 64)   36928       dropout_12[0][0]                 \n",
      "__________________________________________________________________________________________________\n",
      "max_pooling2d_7 (MaxPooling2D)  (None, 16, 16, 64)   0           conv2d_25[0][0]                  \n",
      "__________________________________________________________________________________________________\n",
      "conv2d_26 (Conv2D)              (None, 16, 16, 128)  73856       max_pooling2d_7[0][0]            \n",
      "__________________________________________________________________________________________________\n",
      "dropout_13 (Dropout)            (None, 16, 16, 128)  0           conv2d_26[0][0]                  \n",
      "__________________________________________________________________________________________________\n",
      "conv2d_27 (Conv2D)              (None, 16, 16, 128)  147584      dropout_13[0][0]                 \n",
      "__________________________________________________________________________________________________\n",
      "max_pooling2d_8 (MaxPooling2D)  (None, 8, 8, 128)    0           conv2d_27[0][0]                  \n",
      "__________________________________________________________________________________________________\n",
      "conv2d_28 (Conv2D)              (None, 8, 8, 256)    295168      max_pooling2d_8[0][0]            \n",
      "__________________________________________________________________________________________________\n",
      "dropout_14 (Dropout)            (None, 8, 8, 256)    0           conv2d_28[0][0]                  \n",
      "__________________________________________________________________________________________________\n",
      "conv2d_29 (Conv2D)              (None, 8, 8, 256)    590080      dropout_14[0][0]                 \n",
      "__________________________________________________________________________________________________\n",
      "conv2d_transpose_5 (Conv2DTrans (None, 16, 16, 128)  131200      conv2d_29[0][0]                  \n",
      "__________________________________________________________________________________________________\n",
      "concatenate_5 (Concatenate)     (None, 16, 16, 256)  0           conv2d_transpose_5[0][0]         \n",
      "                                                                 conv2d_27[0][0]                  \n",
      "__________________________________________________________________________________________________\n",
      "conv2d_30 (Conv2D)              (None, 16, 16, 128)  295040      concatenate_5[0][0]              \n",
      "__________________________________________________________________________________________________\n",
      "dropout_15 (Dropout)            (None, 16, 16, 128)  0           conv2d_30[0][0]                  \n",
      "__________________________________________________________________________________________________\n",
      "conv2d_31 (Conv2D)              (None, 16, 16, 128)  147584      dropout_15[0][0]                 \n",
      "__________________________________________________________________________________________________\n",
      "conv2d_transpose_6 (Conv2DTrans (None, 32, 32, 64)   32832       conv2d_31[0][0]                  \n",
      "__________________________________________________________________________________________________\n",
      "concatenate_6 (Concatenate)     (None, 32, 32, 128)  0           conv2d_transpose_6[0][0]         \n",
      "                                                                 conv2d_25[0][0]                  \n",
      "__________________________________________________________________________________________________\n",
      "conv2d_32 (Conv2D)              (None, 32, 32, 64)   73792       concatenate_6[0][0]              \n",
      "__________________________________________________________________________________________________\n",
      "dropout_16 (Dropout)            (None, 32, 32, 64)   0           conv2d_32[0][0]                  \n",
      "__________________________________________________________________________________________________\n",
      "conv2d_33 (Conv2D)              (None, 32, 32, 64)   36928       dropout_16[0][0]                 \n",
      "__________________________________________________________________________________________________\n",
      "conv2d_transpose_7 (Conv2DTrans (None, 64, 64, 32)   8224        conv2d_33[0][0]                  \n",
      "__________________________________________________________________________________________________\n",
      "concatenate_7 (Concatenate)     (None, 64, 64, 64)   0           conv2d_transpose_7[0][0]         \n",
      "                                                                 conv2d_23[0][0]                  \n",
      "__________________________________________________________________________________________________\n",
      "conv2d_34 (Conv2D)              (None, 64, 64, 32)   18464       concatenate_7[0][0]              \n",
      "__________________________________________________________________________________________________\n",
      "dropout_17 (Dropout)            (None, 64, 64, 32)   0           conv2d_34[0][0]                  \n",
      "__________________________________________________________________________________________________\n",
      "conv2d_35 (Conv2D)              (None, 64, 64, 32)   9248        dropout_17[0][0]                 \n",
      "__________________________________________________________________________________________________\n",
      "conv2d_transpose_8 (Conv2DTrans (None, 128, 128, 16) 2064        conv2d_35[0][0]                  \n",
      "__________________________________________________________________________________________________\n",
      "concatenate_8 (Concatenate)     (None, 128, 128, 32) 0           conv2d_transpose_8[0][0]         \n",
      "                                                                 conv2d_21[0][0]                  \n",
      "__________________________________________________________________________________________________\n",
      "conv2d_36 (Conv2D)              (None, 128, 128, 16) 4624        concatenate_8[0][0]              \n",
      "__________________________________________________________________________________________________\n",
      "dropout_18 (Dropout)            (None, 128, 128, 16) 0           conv2d_36[0][0]                  \n",
      "__________________________________________________________________________________________________\n",
      "conv2d_37 (Conv2D)              (None, 128, 128, 16) 2320        dropout_18[0][0]                 \n",
      "__________________________________________________________________________________________________\n",
      "conv2d_38 (Conv2D)              (None, 128, 128, 1)  17          conv2d_37[0][0]                  \n",
      "==================================================================================================\n",
      "Total params: 1,941,105\n",
      "Trainable params: 1,941,105\n",
      "Non-trainable params: 0\n",
      "__________________________________________________________________________________________________\n"
     ]
    }
   ],
   "source": [
    "# Build U-Net model\n",
    "inputs = Input((IMG_HEIGHT, IMG_WIDTH, IMG_CHANNELS))\n",
    "s = Lambda(lambda x: x / 255) (inputs) # normalize inputs to [0, 1] -> D\n",
    "\n",
    "c1 = Conv2D(16, (3, 3), activation='elu', kernel_initializer='he_normal', padding='same') (s)\n",
    "c1 = Dropout(0.1) (c1)\n",
    "c1 = Conv2D(16, (3, 3), activation='elu', kernel_initializer='he_normal', padding='same') (c1)\n",
    "p1 = MaxPooling2D((2, 2)) (c1)\n",
    "\n",
    "c2 = Conv2D(32, (3, 3), activation='elu', kernel_initializer='he_normal', padding='same') (p1)\n",
    "c2 = Dropout(0.1) (c2)\n",
    "c2 = Conv2D(32, (3, 3), activation='elu', kernel_initializer='he_normal', padding='same') (c2)\n",
    "p2 = MaxPooling2D((2, 2)) (c2)\n",
    "\n",
    "c3 = Conv2D(64, (3, 3), activation='elu', kernel_initializer='he_normal', padding='same') (p2)\n",
    "c3 = Dropout(0.2) (c3)\n",
    "c3 = Conv2D(64, (3, 3), activation='elu', kernel_initializer='he_normal', padding='same') (c3)\n",
    "p3 = MaxPooling2D((2, 2)) (c3)\n",
    "\n",
    "c4 = Conv2D(128, (3, 3), activation='elu', kernel_initializer='he_normal', padding='same') (p3)\n",
    "c4 = Dropout(0.2) (c4)\n",
    "c4 = Conv2D(128, (3, 3), activation='elu', kernel_initializer='he_normal', padding='same') (c4)\n",
    "p4 = MaxPooling2D(pool_size=(2, 2)) (c4)\n",
    "\n",
    "c5 = Conv2D(256, (3, 3), activation='elu', kernel_initializer='he_normal', padding='same') (p4)\n",
    "c5 = Dropout(0.3) (c5)\n",
    "c5 = Conv2D(256, (3, 3), activation='elu', kernel_initializer='he_normal', padding='same') (c5)\n",
    "\n",
    "u6 = Conv2DTranspose(128, (2, 2), strides=(2, 2), padding='same') (c5)\n",
    "u6 = concatenate([u6, c4])\n",
    "c6 = Conv2D(128, (3, 3), activation='elu', kernel_initializer='he_normal', padding='same') (u6)\n",
    "c6 = Dropout(0.2) (c6)\n",
    "c6 = Conv2D(128, (3, 3), activation='elu', kernel_initializer='he_normal', padding='same') (c6)\n",
    "\n",
    "u7 = Conv2DTranspose(64, (2, 2), strides=(2, 2), padding='same') (c6)\n",
    "u7 = concatenate([u7, c3])\n",
    "c7 = Conv2D(64, (3, 3), activation='elu', kernel_initializer='he_normal', padding='same') (u7)\n",
    "c7 = Dropout(0.2) (c7)\n",
    "c7 = Conv2D(64, (3, 3), activation='elu', kernel_initializer='he_normal', padding='same') (c7)\n",
    "\n",
    "u8 = Conv2DTranspose(32, (2, 2), strides=(2, 2), padding='same') (c7)\n",
    "u8 = concatenate([u8, c2])\n",
    "c8 = Conv2D(32, (3, 3), activation='elu', kernel_initializer='he_normal', padding='same') (u8)\n",
    "c8 = Dropout(0.1) (c8)\n",
    "c8 = Conv2D(32, (3, 3), activation='elu', kernel_initializer='he_normal', padding='same') (c8)\n",
    "\n",
    "u9 = Conv2DTranspose(16, (2, 2), strides=(2, 2), padding='same') (c8)\n",
    "u9 = concatenate([u9, c1], axis=3)\n",
    "c9 = Conv2D(16, (3, 3), activation='elu', kernel_initializer='he_normal', padding='same') (u9)\n",
    "c9 = Dropout(0.1) (c9)\n",
    "c9 = Conv2D(16, (3, 3), activation='elu', kernel_initializer='he_normal', padding='same') (c9)\n",
    "\n",
    "outputs = Conv2D(1, (1, 1), activation='sigmoid') (c9)\n",
    "\n",
    "model = Model(inputs=[inputs], outputs=[outputs])\n",
    "model.compile(optimizer='adam', loss='binary_crossentropy', metrics=[mean_iou])\n",
    "model.summary()"
   ]
  },
  {
   "cell_type": "markdown",
   "metadata": {
    "_cell_guid": "72330944-6ce7-4070-b276-c3c4b20c4fe5",
    "_uuid": "92350b6e18cc50f3fa7b6e9a02d39fcbff8238f7"
   },
   "source": [
    "*Update: Changed to ELU units, added dropout.*\n",
    "\n",
    "Next we fit the model on the training data, using a validation split of 0.1. We use a small batch size because we have so little data. I recommend using checkpointing and early stopping when training your model. I won't do it here to make things a bit more reproducible (although it's very likely that your results will be different anyway). I'll just train for 10 epochs, which takes around 10 minutes in the Kaggle kernel with the current parameters. \n",
    "\n",
    "*Update: Added early stopping and checkpointing and increased to 30 epochs.*"
   ]
  },
  {
   "cell_type": "code",
   "execution_count": 14,
   "metadata": {
    "_cell_guid": "9415b1c4-aa69-41b9-a1e3-d6053dbd4f64",
    "_uuid": "c060db22daa2abf12b28240cd81bbcbf1ce1bf87"
   },
   "outputs": [
    {
     "name": "stdout",
     "output_type": "stream",
     "text": [
      "Train on 603 samples, validate on 67 samples\n",
      "Epoch 1/50\n",
      "592/603 [============================>.] - ETA: 3s - loss: 0.4551 - mean_iou: 0.4342Epoch 00001: val_loss improved from inf to 0.25552, saving model to model-dsbowl2018-1.h5\n",
      "603/603 [==============================] - 203s 337ms/step - loss: 0.4529 - mean_iou: 0.4343 - val_loss: 0.2555 - val_mean_iou: 0.4417\n",
      "Epoch 2/50\n",
      "592/603 [============================>.] - ETA: 3s - loss: 0.2164 - mean_iou: 0.4664Epoch 00002: val_loss improved from 0.25552 to 0.16241, saving model to model-dsbowl2018-1.h5\n",
      "603/603 [==============================] - 190s 314ms/step - loss: 0.2156 - mean_iou: 0.4671 - val_loss: 0.1624 - val_mean_iou: 0.5090\n",
      "Epoch 3/50\n",
      "592/603 [============================>.] - ETA: 4s - loss: 0.1475 - mean_iou: 0.5466 Epoch 00003: val_loss improved from 0.16241 to 0.13659, saving model to model-dsbowl2018-1.h5\n",
      "603/603 [==============================] - 238s 395ms/step - loss: 0.1470 - mean_iou: 0.5472 - val_loss: 0.1366 - val_mean_iou: 0.5802\n",
      "Epoch 4/50\n",
      "592/603 [============================>.] - ETA: 4s - loss: 0.1233 - mean_iou: 0.6054 Epoch 00004: val_loss improved from 0.13659 to 0.11050, saving model to model-dsbowl2018-1.h5\n",
      "603/603 [==============================] - 239s 396ms/step - loss: 0.1232 - mean_iou: 0.6058 - val_loss: 0.1105 - val_mean_iou: 0.6280\n",
      "Epoch 5/50\n",
      "592/603 [============================>.] - ETA: 3s - loss: 0.1131 - mean_iou: 0.6448Epoch 00005: val_loss improved from 0.11050 to 0.09489, saving model to model-dsbowl2018-1.h5\n",
      "603/603 [==============================] - 198s 328ms/step - loss: 0.1130 - mean_iou: 0.6451 - val_loss: 0.0949 - val_mean_iou: 0.6607\n",
      "Epoch 6/50\n",
      "592/603 [============================>.] - ETA: 3s - loss: 0.1079 - mean_iou: 0.6733Epoch 00006: val_loss did not improve\n",
      "603/603 [==============================] - 206s 342ms/step - loss: 0.1076 - mean_iou: 0.6735 - val_loss: 0.0971 - val_mean_iou: 0.6852\n",
      "Epoch 7/50\n",
      "592/603 [============================>.] - ETA: 3s - loss: 0.0999 - mean_iou: 0.6947Epoch 00007: val_loss improved from 0.09489 to 0.08564, saving model to model-dsbowl2018-1.h5\n",
      "603/603 [==============================] - 198s 328ms/step - loss: 0.1006 - mean_iou: 0.6948 - val_loss: 0.0856 - val_mean_iou: 0.7040\n",
      "Epoch 8/50\n",
      "592/603 [============================>.] - ETA: 3s - loss: 0.0996 - mean_iou: 0.7120Epoch 00008: val_loss improved from 0.08564 to 0.08526, saving model to model-dsbowl2018-1.h5\n",
      "603/603 [==============================] - 183s 304ms/step - loss: 0.1000 - mean_iou: 0.7121 - val_loss: 0.0853 - val_mean_iou: 0.7193\n",
      "Epoch 9/50\n",
      "592/603 [============================>.] - ETA: 2s - loss: 0.1026 - mean_iou: 0.7251Epoch 00009: val_loss improved from 0.08526 to 0.08280, saving model to model-dsbowl2018-1.h5\n",
      "603/603 [==============================] - 166s 276ms/step - loss: 0.1026 - mean_iou: 0.7252 - val_loss: 0.0828 - val_mean_iou: 0.7304\n",
      "Epoch 10/50\n",
      "592/603 [============================>.] - ETA: 2s - loss: 0.0930 - mean_iou: 0.7359Epoch 00010: val_loss did not improve\n",
      "603/603 [==============================] - 166s 275ms/step - loss: 0.0926 - mean_iou: 0.7360 - val_loss: 0.0856 - val_mean_iou: 0.7409\n",
      "Epoch 11/50\n",
      "592/603 [============================>.] - ETA: 2s - loss: 0.0883 - mean_iou: 0.7457Epoch 00011: val_loss improved from 0.08280 to 0.07825, saving model to model-dsbowl2018-1.h5\n",
      "603/603 [==============================] - 165s 274ms/step - loss: 0.0876 - mean_iou: 0.7457 - val_loss: 0.0783 - val_mean_iou: 0.7501\n",
      "Epoch 12/50\n",
      "592/603 [============================>.] - ETA: 2s - loss: 0.0858 - mean_iou: 0.7541Epoch 00012: val_loss improved from 0.07825 to 0.07741, saving model to model-dsbowl2018-1.h5\n",
      "603/603 [==============================] - 166s 276ms/step - loss: 0.0857 - mean_iou: 0.7542 - val_loss: 0.0774 - val_mean_iou: 0.7582\n",
      "Epoch 13/50\n",
      "592/603 [============================>.] - ETA: 2s - loss: 0.0843 - mean_iou: 0.7616Epoch 00013: val_loss improved from 0.07741 to 0.07432, saving model to model-dsbowl2018-1.h5\n",
      "603/603 [==============================] - 167s 276ms/step - loss: 0.0842 - mean_iou: 0.7616 - val_loss: 0.0743 - val_mean_iou: 0.7649\n",
      "Epoch 14/50\n",
      "592/603 [============================>.] - ETA: 2s - loss: 0.0805 - mean_iou: 0.7683Epoch 00014: val_loss did not improve\n",
      "603/603 [==============================] - 166s 275ms/step - loss: 0.0810 - mean_iou: 0.7683 - val_loss: 0.0760 - val_mean_iou: 0.7712\n",
      "Epoch 15/50\n",
      "592/603 [============================>.] - ETA: 2s - loss: 0.0801 - mean_iou: 0.7739Epoch 00015: val_loss did not improve\n",
      "603/603 [==============================] - 166s 275ms/step - loss: 0.0795 - mean_iou: 0.7740 - val_loss: 0.0786 - val_mean_iou: 0.7767\n",
      "Epoch 16/50\n",
      "592/603 [============================>.] - ETA: 2s - loss: 0.0851 - mean_iou: 0.7792Epoch 00016: val_loss improved from 0.07432 to 0.07138, saving model to model-dsbowl2018-1.h5\n",
      "603/603 [==============================] - 168s 279ms/step - loss: 0.0847 - mean_iou: 0.7792 - val_loss: 0.0714 - val_mean_iou: 0.7816\n",
      "Epoch 17/50\n",
      "592/603 [============================>.] - ETA: 2s - loss: 0.0810 - mean_iou: 0.7836Epoch 00017: val_loss did not improve\n",
      "603/603 [==============================] - 167s 277ms/step - loss: 0.0804 - mean_iou: 0.7836 - val_loss: 0.0741 - val_mean_iou: 0.7858\n",
      "Epoch 18/50\n",
      "592/603 [============================>.] - ETA: 2s - loss: 0.0797 - mean_iou: 0.7879Epoch 00018: val_loss improved from 0.07138 to 0.06898, saving model to model-dsbowl2018-1.h5\n",
      "603/603 [==============================] - 166s 275ms/step - loss: 0.0791 - mean_iou: 0.7879 - val_loss: 0.0690 - val_mean_iou: 0.7897\n",
      "Epoch 19/50\n",
      "592/603 [============================>.] - ETA: 2s - loss: 0.0765 - mean_iou: 0.7915Epoch 00019: val_loss improved from 0.06898 to 0.06843, saving model to model-dsbowl2018-1.h5\n",
      "603/603 [==============================] - 166s 275ms/step - loss: 0.0767 - mean_iou: 0.7915 - val_loss: 0.0684 - val_mean_iou: 0.7934\n",
      "Epoch 20/50\n",
      "592/603 [============================>.] - ETA: 2s - loss: 0.0757 - mean_iou: 0.7950Epoch 00020: val_loss did not improve\n",
      "603/603 [==============================] - 165s 274ms/step - loss: 0.0757 - mean_iou: 0.7951 - val_loss: 0.0696 - val_mean_iou: 0.7967\n",
      "Epoch 21/50\n",
      "592/603 [============================>.] - ETA: 2s - loss: 0.0754 - mean_iou: 0.7984Epoch 00021: val_loss improved from 0.06843 to 0.06736, saving model to model-dsbowl2018-1.h5\n",
      "603/603 [==============================] - 166s 275ms/step - loss: 0.0754 - mean_iou: 0.7985 - val_loss: 0.0674 - val_mean_iou: 0.7999\n",
      "Epoch 22/50\n",
      "592/603 [============================>.] - ETA: 3s - loss: 0.0724 - mean_iou: 0.8014Epoch 00022: val_loss did not improve\n",
      "603/603 [==============================] - 171s 284ms/step - loss: 0.0723 - mean_iou: 0.8014 - val_loss: 0.0676 - val_mean_iou: 0.8028\n",
      "Epoch 23/50\n",
      "592/603 [============================>.] - ETA: 2s - loss: 0.0731 - mean_iou: 0.8042Epoch 00023: val_loss did not improve\n",
      "603/603 [==============================] - 165s 274ms/step - loss: 0.0727 - mean_iou: 0.8042 - val_loss: 0.0678 - val_mean_iou: 0.8055\n",
      "Epoch 24/50\n",
      "592/603 [============================>.] - ETA: 2s - loss: 0.0706 - mean_iou: 0.8068Epoch 00024: val_loss improved from 0.06736 to 0.06525, saving model to model-dsbowl2018-1.h5\n",
      "603/603 [==============================] - 165s 274ms/step - loss: 0.0715 - mean_iou: 0.8069 - val_loss: 0.0653 - val_mean_iou: 0.8081\n",
      "Epoch 25/50\n",
      "592/603 [============================>.] - ETA: 2s - loss: 0.0715 - mean_iou: 0.8093Epoch 00025: val_loss did not improve\n",
      "603/603 [==============================] - 165s 274ms/step - loss: 0.0710 - mean_iou: 0.8093 - val_loss: 0.0696 - val_mean_iou: 0.8104\n",
      "Epoch 26/50\n",
      "592/603 [============================>.] - ETA: 2s - loss: 0.0713 - mean_iou: 0.8116Epoch 00026: val_loss did not improve\n",
      "603/603 [==============================] - 165s 274ms/step - loss: 0.0707 - mean_iou: 0.8116 - val_loss: 0.0669 - val_mean_iou: 0.8127\n",
      "Epoch 27/50\n",
      "592/603 [============================>.] - ETA: 2s - loss: 0.0708 - mean_iou: 0.8138Epoch 00027: val_loss did not improve\n",
      "603/603 [==============================] - 167s 276ms/step - loss: 0.0707 - mean_iou: 0.8138 - val_loss: 0.0666 - val_mean_iou: 0.8147\n"
     ]
    },
    {
     "name": "stdout",
     "output_type": "stream",
     "text": [
      "Epoch 28/50\n",
      "592/603 [============================>.] - ETA: 2s - loss: 0.0698 - mean_iou: 0.8157Epoch 00028: val_loss improved from 0.06525 to 0.06480, saving model to model-dsbowl2018-1.h5\n",
      "603/603 [==============================] - 170s 281ms/step - loss: 0.0702 - mean_iou: 0.8158 - val_loss: 0.0648 - val_mean_iou: 0.8167\n",
      "Epoch 29/50\n",
      "592/603 [============================>.] - ETA: 2s - loss: 0.0708 - mean_iou: 0.8176Epoch 00029: val_loss did not improve\n",
      "603/603 [==============================] - 165s 274ms/step - loss: 0.0710 - mean_iou: 0.8176 - val_loss: 0.0661 - val_mean_iou: 0.8185\n",
      "Epoch 30/50\n",
      "592/603 [============================>.] - ETA: 3s - loss: 0.0703 - mean_iou: 0.8193Epoch 00030: val_loss did not improve\n",
      "603/603 [==============================] - 187s 310ms/step - loss: 0.0706 - mean_iou: 0.8193 - val_loss: 0.0650 - val_mean_iou: 0.8202\n",
      "Epoch 31/50\n",
      "592/603 [============================>.] - ETA: 2s - loss: 0.0710 - mean_iou: 0.8209Epoch 00031: val_loss improved from 0.06480 to 0.06342, saving model to model-dsbowl2018-1.h5\n",
      "603/603 [==============================] - 167s 276ms/step - loss: 0.0706 - mean_iou: 0.8209 - val_loss: 0.0634 - val_mean_iou: 0.8217\n",
      "Epoch 32/50\n",
      "592/603 [============================>.] - ETA: 2s - loss: 0.0701 - mean_iou: 0.8225Epoch 00032: val_loss did not improve\n",
      "603/603 [==============================] - 165s 274ms/step - loss: 0.0696 - mean_iou: 0.8225 - val_loss: 0.0644 - val_mean_iou: 0.8232\n",
      "Epoch 33/50\n",
      "592/603 [============================>.] - ETA: 2s - loss: 0.0667 - mean_iou: 0.8240Epoch 00033: val_loss did not improve\n",
      "603/603 [==============================] - 166s 275ms/step - loss: 0.0675 - mean_iou: 0.8240 - val_loss: 0.0641 - val_mean_iou: 0.8247\n",
      "Epoch 34/50\n",
      "592/603 [============================>.] - ETA: 2s - loss: 0.0677 - mean_iou: 0.8254Epoch 00034: val_loss did not improve\n",
      "603/603 [==============================] - 166s 275ms/step - loss: 0.0678 - mean_iou: 0.8255 - val_loss: 0.0649 - val_mean_iou: 0.8261\n",
      "Epoch 35/50\n",
      "592/603 [============================>.] - ETA: 2s - loss: 0.0687 - mean_iou: 0.8267Epoch 00035: val_loss improved from 0.06342 to 0.06299, saving model to model-dsbowl2018-1.h5\n",
      "603/603 [==============================] - 165s 274ms/step - loss: 0.0690 - mean_iou: 0.8268 - val_loss: 0.0630 - val_mean_iou: 0.8274\n",
      "Epoch 36/50\n",
      "592/603 [============================>.] - ETA: 2s - loss: 0.0675 - mean_iou: 0.8279Epoch 00036: val_loss did not improve\n",
      "603/603 [==============================] - 165s 274ms/step - loss: 0.0675 - mean_iou: 0.8279 - val_loss: 0.0636 - val_mean_iou: 0.8286\n",
      "Epoch 37/50\n",
      "592/603 [============================>.] - ETA: 2s - loss: 0.0683 - mean_iou: 0.8292Epoch 00037: val_loss improved from 0.06299 to 0.06215, saving model to model-dsbowl2018-1.h5\n",
      "603/603 [==============================] - 166s 275ms/step - loss: 0.0677 - mean_iou: 0.8292 - val_loss: 0.0622 - val_mean_iou: 0.8298\n",
      "Epoch 38/50\n",
      "592/603 [============================>.] - ETA: 2s - loss: 0.0733 - mean_iou: 0.8304Epoch 00038: val_loss did not improve\n",
      "603/603 [==============================] - 165s 274ms/step - loss: 0.0734 - mean_iou: 0.8304 - val_loss: 0.0718 - val_mean_iou: 0.8308\n",
      "Epoch 39/50\n",
      "592/603 [============================>.] - ETA: 3s - loss: 0.0740 - mean_iou: 0.8312Epoch 00039: val_loss did not improve\n",
      "603/603 [==============================] - 172s 285ms/step - loss: 0.0736 - mean_iou: 0.8312 - val_loss: 0.0725 - val_mean_iou: 0.8317\n",
      "Epoch 40/50\n",
      "592/603 [============================>.] - ETA: 2s - loss: 0.0754 - mean_iou: 0.8320Epoch 00040: val_loss did not improve\n",
      "603/603 [==============================] - 149s 247ms/step - loss: 0.0755 - mean_iou: 0.8320 - val_loss: 0.0660 - val_mean_iou: 0.8324\n",
      "Epoch 41/50\n",
      "592/603 [============================>.] - ETA: 2s - loss: 0.0684 - mean_iou: 0.8329Epoch 00041: val_loss did not improve\n",
      "603/603 [==============================] - 149s 246ms/step - loss: 0.0689 - mean_iou: 0.8329 - val_loss: 0.0647 - val_mean_iou: 0.8334\n",
      "Epoch 42/50\n",
      "592/603 [============================>.] - ETA: 3s - loss: 0.0673 - mean_iou: 0.8339Epoch 00042: val_loss did not improve\n",
      "603/603 [==============================] - 173s 287ms/step - loss: 0.0668 - mean_iou: 0.8339 - val_loss: 0.0627 - val_mean_iou: 0.8343\n",
      "Epoch 00042: early stopping\n"
     ]
    }
   ],
   "source": [
    "# Fit model\n",
    "earlystopper = EarlyStopping(patience=5, verbose=1)\n",
    "checkpointer = ModelCheckpoint('model-dsbowl2018-1.h5', verbose=1, save_best_only=True)\n",
    "results = model.fit(X_train, Y_train, validation_split=0.1, batch_size=16, epochs=50, \n",
    "                    callbacks=[earlystopper, checkpointer])"
   ]
  },
  {
   "cell_type": "markdown",
   "metadata": {
    "_cell_guid": "1f381f5b-1b71-4daa-a417-e02f4894540b",
    "_uuid": "bb15226ea617cf91ed8f43179fccb5a15809e5a0"
   },
   "source": [
    "All right, looks good! Loss seems to be a bit erratic, though. I'll leave it to you to improve the model architecture and parameters! \n",
    "\n",
    "# Make predictions\n",
    "\n",
    "Let's make predictions both on the test set, the val set and the train set (as a sanity check). Remember to load the best saved model if you've used early stopping and checkpointing."
   ]
  },
  {
   "cell_type": "code",
   "execution_count": 15,
   "metadata": {
    "_cell_guid": "2daa48d5-ac98-4e18-af3f-a582baaa44f0",
    "_uuid": "f841760b4abca1a25cb750822f88268bd79bf2ce"
   },
   "outputs": [
    {
     "name": "stdout",
     "output_type": "stream",
     "text": [
      "603/603 [==============================] - 48s 80ms/step\n",
      "67/67 [==============================] - 5s 78ms/step\n",
      "65/65 [==============================] - 6s 88ms/step\n"
     ]
    }
   ],
   "source": [
    "# Predict on train, val and test\n",
    "model = load_model('model-dsbowl2018-1.h5', custom_objects={'mean_iou': mean_iou})\n",
    "preds_train = model.predict(X_train[:int(X_train.shape[0]*0.9)], verbose=1)\n",
    "preds_val = model.predict(X_train[int(X_train.shape[0]*0.9):], verbose=1)\n",
    "preds_test = model.predict(X_test, verbose=1)\n",
    "\n",
    "# Threshold predictions\n",
    "preds_train_t = (preds_train > 0.5).astype(np.uint8)\n",
    "preds_val_t = (preds_val > 0.5).astype(np.uint8)\n",
    "preds_test_t = (preds_test > 0.5).astype(np.uint8)\n",
    "\n",
    "# Create list of upsampled test masks\n",
    "preds_test_upsampled = []\n",
    "for i in range(len(preds_test)):\n",
    "    preds_test_upsampled.append(resize(np.squeeze(preds_test[i]), \n",
    "                                       (sizes_test[i][0], sizes_test[i][1]), \n",
    "                                       mode='constant', preserve_range=True))"
   ]
  },
  {
   "cell_type": "code",
   "execution_count": 19,
   "metadata": {
    "_cell_guid": "649248cd-a1fb-4da6-ade2-4bebad44bcab",
    "_uuid": "7e06242a50870e07a080064a4912b761775990fa"
   },
   "outputs": [
    {
     "name": "stderr",
     "output_type": "stream",
     "text": [
      "/Users/Kazu/anaconda/lib/python3.6/site-packages/skimage/io/_plugins/matplotlib_plugin.py:51: FutureWarning: Conversion of the second argument of issubdtype from `float` to `np.floating` is deprecated. In future, it will be treated as `np.float64 == np.dtype(float).type`.\n",
      "  out_of_range_float = (np.issubdtype(image.dtype, np.float) and\n"
     ]
    },
    {
     "data": {
      "image/png": "[encoded data removed]",
      "text/plain": [
       "<matplotlib.figure.Figure at 0x1c34eb6d30>"
      ]
     },
     "metadata": {},
     "output_type": "display_data"
    },
    {
     "data": {
      "image/png": "[encoded data removed]",
      "text/plain": [
       "<matplotlib.figure.Figure at 0x1c422ae278>"
      ]
     },
     "metadata": {},
     "output_type": "display_data"
    },
    {
     "data": {
      "image/png": "[encoded data removed]",
      "text/plain": [
       "<matplotlib.figure.Figure at 0x1c42337630>"
      ]
     },
     "metadata": {},
     "output_type": "display_data"
    }
   ],
   "source": [
    "# Perform a sanity check on some random training samples\n",
    "ix = random.randint(0, len(preds_train_t))\n",
    "imshow(X_train[ix])\n",
    "plt.show()\n",
    "imshow(np.squeeze(Y_train[ix]))\n",
    "plt.show()\n",
    "imshow(np.squeeze(preds_train_t[ix]))\n",
    "plt.show()"
   ]
  },
  {
   "cell_type": "markdown",
   "metadata": {
    "_cell_guid": "af602aea-5e56-42a8-9331-54b4b2650593",
    "_uuid": "5fcee2b9aee2fba5c60d43ad48a14139e9c1318c"
   },
   "source": [
    "The model is at least able to fit to the training data! Certainly a lot of room for improvement even here, but a decent start. How about the validation data?"
   ]
  },
  {
   "cell_type": "code",
   "execution_count": 18,
   "metadata": {
    "_cell_guid": "4f66b75c-c694-41a1-8c91-34bb6595837b",
    "_uuid": "d4ccbb559375bc2777ffb692a20adc313159f2cc"
   },
   "outputs": [
    {
     "name": "stderr",
     "output_type": "stream",
     "text": [
      "/Users/Kazu/anaconda/lib/python3.6/site-packages/skimage/io/_plugins/matplotlib_plugin.py:51: FutureWarning: Conversion of the second argument of issubdtype from `float` to `np.floating` is deprecated. In future, it will be treated as `np.float64 == np.dtype(float).type`.\n",
      "  out_of_range_float = (np.issubdtype(image.dtype, np.float) and\n"
     ]
    },
    {
     "data": {
      "image/png": "[encoded data removed]",
      "text/plain": [
       "<matplotlib.figure.Figure at 0x1c41e28da0>"
      ]
     },
     "metadata": {},
     "output_type": "display_data"
    },
    {
     "data": {
      "image/png": "[encoded data removed]",
      "text/plain": [
       "<matplotlib.figure.Figure at 0x1c34f8a908>"
      ]
     },
     "metadata": {},
     "output_type": "display_data"
    },
    {
     "data": {
      "image/png": "[encoded data removed]",
      "text/plain": [
       "<matplotlib.figure.Figure at 0x1c41fa0518>"
      ]
     },
     "metadata": {},
     "output_type": "display_data"
    }
   ],
   "source": [
    "# Perform a sanity check on some random validation samples\n",
    "ix = random.randint(0, len(preds_val_t))\n",
    "imshow(X_train[int(X_train.shape[0]*0.9):][ix])\n",
    "plt.show()\n",
    "imshow(np.squeeze(Y_train[int(Y_train.shape[0]*0.9):][ix]))\n",
    "plt.show()\n",
    "imshow(np.squeeze(preds_val_t[ix]))\n",
    "plt.show()"
   ]
  },
  {
   "cell_type": "markdown",
   "metadata": {
    "_cell_guid": "a6690535-b2e4-49ac-98d9-7191bfabfb6f",
    "_uuid": "6a34c98de7c6ae473f676a34fe7e099b46764eca"
   },
   "source": [
    "Not too shabby! Definitely needs some more training and tweaking.\n",
    "\n",
    "# Encode and submit our results\n",
    "\n",
    "Now it's time to submit our results. I've stolen [this](https://www.kaggle.com/rakhlin/fast-run-length-encoding-python) excellent implementation of run-length encoding."
   ]
  },
  {
   "cell_type": "code",
   "execution_count": null,
   "metadata": {
    "_cell_guid": "59a0af60-a7d7-41ef-a6fe-9e3c72defa07",
    "_uuid": "4f99c1bf852e82b60bd4f982ca0df293f712cdf0",
    "collapsed": true
   },
   "outputs": [],
   "source": [
    "# Run-length encoding stolen from https://www.kaggle.com/rakhlin/fast-run-length-encoding-python\n",
    "def rle_encoding(x):\n",
    "    dots = np.where(x.T.flatten() == 1)[0]\n",
    "    run_lengths = []\n",
    "    prev = -2\n",
    "    for b in dots:\n",
    "        if (b>prev+1): run_lengths.extend((b + 1, 0))\n",
    "        run_lengths[-1] += 1\n",
    "        prev = b\n",
    "    return run_lengths\n",
    "\n",
    "def prob_to_rles(x, cutoff=0.5):\n",
    "    lab_img = label(x > cutoff)\n",
    "    for i in range(1, lab_img.max() + 1):\n",
    "        yield rle_encoding(lab_img == i)"
   ]
  },
  {
   "cell_type": "markdown",
   "metadata": {
    "_cell_guid": "31133f8c-3f40-4dff-8e1d-898d56672332",
    "_uuid": "2e07f6afc4787b068ba714428145dcb3951d718f"
   },
   "source": [
    "Let's iterate over the test IDs and generate run-length encodings for each seperate mask identified by skimage ..."
   ]
  },
  {
   "cell_type": "code",
   "execution_count": null,
   "metadata": {
    "_cell_guid": "22fe24a1-7659-4cc9-9d23-211f38e5b99f",
    "_uuid": "089587843ed6a3955fdcb9b23a6ec3bf5d703688",
    "collapsed": true
   },
   "outputs": [],
   "source": [
    "new_test_ids = []\n",
    "rles = []\n",
    "for n, id_ in enumerate(test_ids):\n",
    "    rle = list(prob_to_rles(preds_test_upsampled[n]))\n",
    "    rles.extend(rle)\n",
    "    new_test_ids.extend([id_] * len(rle))"
   ]
  },
  {
   "cell_type": "markdown",
   "metadata": {
    "_cell_guid": "20b6b627-0fd6-425d-888f-da7f39efb124",
    "_uuid": "849184a40a2c9c21506d8b8eb10ad9155fa229e8"
   },
   "source": [
    "... and then finally create our submission!"
   ]
  },
  {
   "cell_type": "code",
   "execution_count": null,
   "metadata": {
    "_cell_guid": "1ba0ee3a-cca0-4349-83f6-09a1ac6fcb44",
    "_uuid": "ba589f56f5be1e6886bc88f5bf9e7d0a408e4048",
    "collapsed": true
   },
   "outputs": [],
   "source": [
    "# Create submission DataFrame\n",
    "sub = pd.DataFrame()\n",
    "sub['ImageId'] = new_test_ids\n",
    "sub['EncodedPixels'] = pd.Series(rles).apply(lambda x: ' '.join(str(y) for y in x))\n",
    "sub.to_csv('sub-dsbowl2018-1.csv', index=False)"
   ]
  },
  {
   "cell_type": "markdown",
   "metadata": {
    "_cell_guid": "222475b9-3171-461a-90f0-a820a6bd2634",
    "_uuid": "fb5e6f8cca872f1bd7036f6d9ac2ed2cab615536",
    "collapsed": true
   },
   "source": [
    "This scored 0.233 on the LB for me. That was with version 2 of this notebook; be aware that the results from the neural network are extremely erratic and vary greatly from run to run (version 3 is significantly worse, for example). Version 7 scores 0.277!\n",
    "\n",
    "You should easily be able to stabilize and improve the results just by changing a few parameters, tweaking the architecture a little bit and training longer with early stopping.\n",
    "\n",
    "**Have fun!**\n",
    "\n",
    "LB score history:\n",
    "- Version 7: 0.277 LB"
   ]
  },
  {
   "cell_type": "code",
   "execution_count": null,
   "metadata": {
    "_cell_guid": "3f5e5a47-6133-4870-976a-a8e4fa7bf46c",
    "_uuid": "2a83eab66bf55194f300953bea5534b6a043130f",
    "collapsed": true
   },
   "outputs": [],
   "source": []
  }
 ],
 "metadata": {
  "kernelspec": {
   "display_name": "Python 3",
   "language": "python",
   "name": "python3"
  },
  "language_info": {
   "codemirror_mode": {
    "name": "ipython",
    "version": 3
   },
   "file_extension": ".py",
   "mimetype": "text/x-python",
   "name": "python",
   "nbconvert_exporter": "python",
   "pygments_lexer": "ipython3",
   "version": "3.6.1"
  }
 },
 "nbformat": 4,
 "nbformat_minor": 1
}
