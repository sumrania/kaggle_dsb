{
 "cells": [
  {
   "cell_type": "markdown",
   "metadata": {
    "_cell_guid": "b8295924-dd43-46c9-bfed-10b2e12e8140",
    "_uuid": "b7f8e8fa7e69dd90d6872f6becf01251a5100f2d",
    "collapsed": true
   },
   "source": [
    "# Exploratory Analysis\n",
    "\n",
    "During my undergraduate studies I had biology as one of my subjects and I enjoyed preparing the slides and looking at them using a microscope. So these images are interesting, and I get to learn a bit more about how Deep Learning impact the medical field.\n",
    "\n",
    "I liked the video overview given by [Dr. Anne Carpenter](https://www.kaggle.com/drannecarpenter) and I am sure I will be able to learn quite a few things by participating in this.\n",
    "\n",
    "The images consist of different modalities and magnification as mentioned in this [thread](https://www.kaggle.com/c/data-science-bowl-2018/discussion/47640)\n",
    "\n",
    "> We want a single model that just works across all kinds of image modalities, no matter the size of the nuclei or the color scheme. Such a model could be built into software that biologists use with all kinds of microscopes and eliminate the need for them to train on their individual data or provide metadata about their cell type, microscope, resolution, etc.\n",
    "\n",
    "> <cite>[Dr. Anne Carpenter](https://www.kaggle.com/drannecarpenter)</cite>\n",
    "\n",
    "### Disclaimer\n",
    "\n",
    "My knowledge of Computer Vision, Microbiology & Deep Learning is very limited. I have been trying to follow courses and learn these interesting techniques, but I have realized that this is a vast field and there are too many things to learn.\n",
    "\n",
    "* My approach may not be the right one, but I am still going to try\n",
    "* Most of the code here is borrowed from what others have been doing. I have just tweaked a few things here and there and expanded on the steps, so that I can see and understand what is happening behind the scenes.\n",
    "* Any suggestions to improve the code here is welcome."
   ]
  },
  {
   "cell_type": "markdown",
   "metadata": {
    "_cell_guid": "061d02a8-0e31-4a8f-b038-aaea5e8eeeb2",
    "_uuid": "fd1f838398fd1c719a8bb5239ed08d42812a7817"
   },
   "source": [
    "## References\n",
    "\n",
    "* [Adrian Rosebrock's PyImageSearch](https://www.pyimagesearch.com) which covers great tutorials on OpenCV"
   ]
  },
  {
   "cell_type": "markdown",
   "metadata": {
    "_cell_guid": "e53723da-2b77-4a73-8dd2-c95b22de6d9c",
    "_uuid": "67ba5f38f482cc3916a0b51a443e2bf3b35d0033"
   },
   "source": [
    "## Approach\n",
    "\n",
    "I am a newbie to Deep Learning and Computer Vision and this competition is my playground for learning. I will approach this competition with the limited knowledge that I have, and I will also attempt to incorporate methods that others are experimenting with, if I can grasp them and can implement on my own. \n",
    "\n",
    "There are a lot of people who have built interesting kernels which take different approaches to reach the end goal."
   ]
  },
  {
   "cell_type": "markdown",
   "metadata": {
    "_cell_guid": "a2e52dd7-3f9c-44b9-b515-c46df706d2f8",
    "_uuid": "2b0677ae441de7b1cc2256e0583ffc25382793f6"
   },
   "source": [
    "## Questions\n",
    "\n",
    "Here are the questions I set out to answer in this notebook.\n",
    "\n",
    "* How many types of images are there?\n",
    "* Are the types of images in train and test similar or vastly different?\n",
    "* How does the image segmentation and object detection compare to the masks provided for the training set?"
   ]
  },
  {
   "cell_type": "code",
   "execution_count": 2,
   "metadata": {
    "_cell_guid": "022610bb-9732-48a9-9255-0df27daffd32",
    "_uuid": "7330350203589637a82dd3786bc5244f4e9d44a2",
    "collapsed": true
   },
   "outputs": [],
   "source": [
    "import numpy as np\n",
    "import pandas as pd\n",
    "import os\n",
    "import glob\n",
    "import cv2\n",
    "import math\n",
    "import seaborn as sns\n",
    "import json\n",
    "\n",
    "sns.set()\n",
    "sns.set_palette(\"husl\")"
   ]
  },
  {
   "cell_type": "code",
   "execution_count": 3,
   "metadata": {
    "_cell_guid": "e8f93b56-7ebd-46ef-9de3-2a06b2e198a4",
    "_uuid": "794112eeaef6eabde34f954333ca9715696fdc01",
    "collapsed": true
   },
   "outputs": [],
   "source": [
    "TRAIN_PATH = '../../data/stage1_train/'\n",
    "TEST_PATH = '../../data/stage1_test/'\n",
    "\n",
    "RANDOM_SEED=75\n",
    "\n",
    "OUTPUT_PATH = './'\n",
    "CONTOUR_EXTRACT_MODE = cv2.RETR_TREE"
   ]
  },
  {
   "cell_type": "markdown",
   "metadata": {
    "_cell_guid": "859affa5-d6d8-4b62-bf10-4d9933fbad4a",
    "_uuid": "b7646f20e4ebf04f68ba68cc9c88aab783c3698b"
   },
   "source": [
    "Ensuring that only the folders are picked up and any junk files in the same path are ignored"
   ]
  },
  {
   "cell_type": "code",
   "execution_count": 6,
   "metadata": {
    "_cell_guid": "2e04ac6b-d772-486c-b677-cba68075ac60",
    "_uuid": "626961b56004acba24c6fcdf412698e432ec7702"
   },
   "outputs": [],
   "source": [
    "train_ids = [x for x in os.listdir(TRAIN_PATH) if os.path.isdir(TRAIN_PATH+x)]\n",
    "test_ids = [x for x in os.listdir(TEST_PATH) if os.path.isdir(TEST_PATH+x)]"
   ]
  },
  {
   "cell_type": "markdown",
   "metadata": {
    "_cell_guid": "5926962a-56e6-4398-8db9-89f69f2bad3f",
    "_uuid": "02edf8378cf5ab3da58bf90fec8f935ed1015c6e"
   },
   "source": [
    "Create a pandas dataframe combining all images and marking them as train or test. This way we can do a comparison across all images."
   ]
  },
  {
   "cell_type": "code",
   "execution_count": 8,
   "metadata": {
    "_cell_guid": "aeb96f7d-f39d-4010-8306-dce811d9f2be",
    "_uuid": "a3f9ab1762996b3560be1f1a67fe5986b7704c0d"
   },
   "outputs": [
    {
     "data": {
      "text/html": [
       "<div>\n",
       "<style scoped>\n",
       "    .dataframe tbody tr th:only-of-type {\n",
       "        vertical-align: middle;\n",
       "    }\n",
       "\n",
       "    .dataframe tbody tr th {\n",
       "        vertical-align: top;\n",
       "    }\n",
       "\n",
       "    .dataframe thead th {\n",
       "        text-align: right;\n",
       "    }\n",
       "</style>\n",
       "<table border=\"1\" class=\"dataframe\">\n",
       "  <thead>\n",
       "    <tr style=\"text-align: right;\">\n",
       "      <th></th>\n",
       "      <th>id</th>\n",
       "    </tr>\n",
       "    <tr>\n",
       "      <th>train_or_test</th>\n",
       "      <th></th>\n",
       "    </tr>\n",
       "  </thead>\n",
       "  <tbody>\n",
       "    <tr>\n",
       "      <th>test</th>\n",
       "      <td>65</td>\n",
       "    </tr>\n",
       "    <tr>\n",
       "      <th>train</th>\n",
       "      <td>670</td>\n",
       "    </tr>\n",
       "  </tbody>\n",
       "</table>\n",
       "</div>"
      ],
      "text/plain": [
       "                id\n",
       "train_or_test     \n",
       "test            65\n",
       "train          670"
      ]
     },
     "execution_count": 8,
     "metadata": {},
     "output_type": "execute_result"
    }
   ],
   "source": [
    "df = pd.DataFrame({'id':train_ids,'train_or_test':'train'})\n",
    "df = df.append(pd.DataFrame({'id':test_ids,'train_or_test':'test'}))\n",
    "\n",
    "df.groupby(['train_or_test']).count()"
   ]
  },
  {
   "cell_type": "markdown",
   "metadata": {
    "_cell_guid": "891bef2c-e13c-4489-b07e-eef764f0dcd5",
    "_uuid": "8cd9ba132986cbf20d00b6048183fcf99f6201fc"
   },
   "source": [
    "There are 65 training images and 670 test images making the test set less than 10% of the training set.\n",
    "\n",
    "Build the paths for the individual images"
   ]
  },
  {
   "cell_type": "code",
   "execution_count": 10,
   "metadata": {
    "_cell_guid": "c045c233-d56c-4bbb-b73c-8e1ff2ace715",
    "_uuid": "cf22cf191b4f27074fa0d1eca593e8e5000307e4",
    "collapsed": true
   },
   "outputs": [],
   "source": [
    "df['path'] = df.apply(lambda x:'../../data/stage1_{}/{}/images/{}.png'.format(x[1],x[0],x[0]), axis=1)"
   ]
  },
  {
   "cell_type": "markdown",
   "metadata": {
    "_cell_guid": "134de14d-02d8-4141-8756-f81b8bd58234",
    "_uuid": "32f0803abd0196370f6cc22309c11f0f4e16ae83"
   },
   "source": [
    "### Observations\n",
    "\n",
    "I had initially glanced through some of the sample images and there were different types of images. This was before I read the thread on modalities and zooms. \n",
    "\n",
    "I saw that some were grayscale with black background and nuclei in grayscale intensities. Some of them were in color and some of them seemed to be black on white. Now, I have read that most of the CV tasks work best on grayscale images and it makes sense if all images follow a similar pattern of white on black. The code below helps us cluster the image into two groups. My assumption is that the group that forms the larger cluster is probably the background coolor and the other one is the foreground color. "
   ]
  },
  {
   "cell_type": "markdown",
   "metadata": {
    "_cell_guid": "944479aa-ed57-4ea5-a6a7-a8115db83d41",
    "_uuid": "0e1f217471a855e3d9f452b0dbfd0e3cddc1cc6d"
   },
   "source": [
    "Create a histogram and identify the centroid of the group as the color intensity whose variations are most similar to it. \n",
    "> <cite>[k-means-color-clustering](https://www.pyimagesearch.com/2014/05/26/opencv-python-k-means-color-clustering/)</cite>"
   ]
  },
  {
   "cell_type": "code",
   "execution_count": 13,
   "metadata": {
    "_cell_guid": "e7e10790-079a-45f2-80e5-b8558a567e16",
    "_uuid": "80c964c8c08bbf8a65ff7406f9e237bbc13f8876",
    "collapsed": true
   },
   "outputs": [],
   "source": [
    "from sklearn.cluster import KMeans\n",
    "\n",
    "def centroid_histogram(clt):\n",
    "    # grab the number of different clusters and create a histogram\n",
    "    # based on the number of pixels assigned to each cluster\n",
    "    numLabels = np.arange(0, len(np.unique(clt.labels_)) + 1)\n",
    "    (hist, _) = np.histogram(clt.labels_, bins = numLabels)\n",
    "\n",
    "    # normalize the histogram, such that it sums to one\n",
    "    hist = hist.astype(\"float\")\n",
    "    hist /= hist.sum()\n",
    "\n",
    "    # return the histogram\n",
    "    return hist"
   ]
  },
  {
   "cell_type": "markdown",
   "metadata": {
    "_cell_guid": "4c51b95c-6659-44a2-900a-03225b32ebe8",
    "_uuid": "fc31b1a4c8445fe6a1d21f1f5cf7e7f2bbff0220"
   },
   "source": [
    "Given a path for an image, load the image and extract the shape attributes. Perform KMeans clustering on the RGB format. Using this extract the background and foreground colors. Since we have the color values for different channels it would be interesting to see how these values are spread across the images. I have calculated the grayscale value as an average of all three colors and this is marked as teh background and foreground color. \n",
    "\n",
    "If the foreground color is darker than the background color mark the image to be inverted before processing. \n",
    "\n",
    "There are different methods for converting a RGB to grayscale and I can revisit this later if the average value is not good enough."
   ]
  },
  {
   "cell_type": "code",
   "execution_count": 15,
   "metadata": {
    "_cell_guid": "8eb6fae7-ad44-4856-bc69-7e4332e6651c",
    "_uuid": "dc8e0e39304ba97a0aae3ea4497cf187eb7b2967",
    "collapsed": true
   },
   "outputs": [],
   "source": [
    "def get_image_info(path, clusters=2):\n",
    "    image = cv2.imread(path)\n",
    "    height,width,_ = image.shape\n",
    "    image = cv2.cvtColor(image, cv2.COLOR_BGRA2RGB)\n",
    "    image = image.reshape((image.shape[0] * image.shape[1], 3))\n",
    "    clt = KMeans(n_clusters = clusters)\n",
    "    clt.fit(image)\n",
    "    hist = centroid_histogram(clt)\n",
    "    \n",
    "    bg_idx, fg_idx = 0, clusters-1\n",
    "    if hist[bg_idx] < hist[fg_idx]:\n",
    "        bg_idx, fg_idx = clusters-1, 0\n",
    "    \n",
    "    bg_red, bg_green, bg_blue = clt.cluster_centers_[bg_idx]\n",
    "    fg_red, fg_green, fg_blue = clt.cluster_centers_[fg_idx]\n",
    "    \n",
    "    bg_color = sum(clt.cluster_centers_[bg_idx])/3\n",
    "    fg_color = sum(clt.cluster_centers_[fg_idx])/3\n",
    "    max_color_pct = hist[bg_idx]\n",
    "    min_color_pct = hist[fg_idx]\n",
    "    \n",
    "    return (pd.Series([height,width,\n",
    "                       bg_red, bg_green, bg_blue, bg_color,\n",
    "                       fg_red, fg_green, fg_blue, fg_color,\n",
    "                       hist[bg_idx],hist[fg_idx],\n",
    "                       fg_color < bg_color]))"
   ]
  },
  {
   "cell_type": "markdown",
   "metadata": {
    "_cell_guid": "469f5778-6585-4b22-ac2b-d7ff566c1bbf",
    "_uuid": "9241eeb969933eb5a1a4fa62991631b39a80a4d0"
   },
   "source": [
    "Collect information about the images and save it."
   ]
  },
  {
   "cell_type": "code",
   "execution_count": null,
   "metadata": {
    "_cell_guid": "8aaa181c-96c3-488a-9efd-0de1506348d8",
    "_uuid": "c79bc7f9604473c93bee9372b3f41c84a3e76a2e",
    "collapsed": true
   },
   "outputs": [],
   "source": [
    "image_info = os.path.join(OUTPUT_PATH,'images.json')\n",
    "\n",
    "if os.path.isfile(image_info):\n",
    "    with open(image_info, 'r') as datafile:\n",
    "        data = json.load(datafile)\n",
    "        df = pd.read_json(path_or_buf=data, orient='records')\n",
    "        data = None\n",
    "else:\n",
    "    names = ['height','width',\n",
    "             'bg_red', 'bg_green', 'bg_blue','bg_color',\n",
    "             'fg_red', 'fg_green', 'fg_blue','fg_color',\n",
    "             'bg_color_pct','fg_color_pct','invert']\n",
    "\n",
    "    df[names] = df['path'].apply(lambda x: get_image_info(x))\n",
    "    df['shape'] = df[['height','width']].apply(lambda x: '{:04d}x{:04d}'.format(x[0], x[1]), axis=1)\n",
    "\n",
    "    with open(image_info, 'w') as outfile:\n",
    "        json.dump(df.to_json(orient='records'), outfile)"
   ]
  },
  {
   "cell_type": "code",
   "execution_count": null,
   "metadata": {
    "_cell_guid": "a576e5b1-32e5-49fc-96bc-ef758e2c48a1",
    "_uuid": "08eba0db02055b15252d1ebfaf0d6bb95ffba6fc",
    "collapsed": true
   },
   "outputs": [],
   "source": [
    "len(df['shape'].unique()),len(df['width'].unique()), len(df['height'].unique())"
   ]
  },
  {
   "cell_type": "markdown",
   "metadata": {
    "_cell_guid": "36f9d3eb-f367-426e-8f7b-d7f71be07382",
    "_uuid": "307bfe4e717289627be54dd358fe52f5042cbb63"
   },
   "source": [
    "## Distribition of images\n",
    "\n",
    "Time to play around with some graphs and see how the data is spread across all images."
   ]
  },
  {
   "cell_type": "code",
   "execution_count": null,
   "metadata": {
    "_cell_guid": "2558b0c1-d972-4c8c-b0ab-1126df5a97d3",
    "_uuid": "ac71b1f108e4b4e4d42a0b2976b98d45973043e2",
    "collapsed": true
   },
   "outputs": [],
   "source": [
    "%matplotlib inline\n",
    "from matplotlib import pyplot as plt"
   ]
  },
  {
   "cell_type": "code",
   "execution_count": null,
   "metadata": {
    "_cell_guid": "ed31be6a-e4de-4912-9e3e-a4eb8be6c00d",
    "_uuid": "8de11149d8ce4d03fbbdf625b97d963eb544535d",
    "collapsed": true
   },
   "outputs": [],
   "source": [
    "agg = df[['shape','train_or_test','id']].groupby(['shape','train_or_test']).count().unstack()\n",
    "agg.columns = agg.columns.droplevel()"
   ]
  },
  {
   "cell_type": "code",
   "execution_count": null,
   "metadata": {
    "_cell_guid": "ae69dcbd-3738-42fc-86da-e11b235e4deb",
    "_uuid": "7c3f727b471bc0c8dc3b5eb12bf3f1b5b4355233",
    "collapsed": true
   },
   "outputs": [],
   "source": [
    "agg.plot.barh(stacked=True,figsize=(16,4))\n",
    "plt.show()"
   ]
  },
  {
   "cell_type": "code",
   "execution_count": null,
   "metadata": {
    "_cell_guid": "221c988e-1418-4e67-a1a3-606f4be93d99",
    "_uuid": "0f6aef92f1cae80e0ced9d787d017e0e22aefcdb",
    "collapsed": true
   },
   "outputs": [],
   "source": [
    "agg[agg['train'].isnull()]"
   ]
  },
  {
   "cell_type": "markdown",
   "metadata": {
    "_cell_guid": "1084d9b4-e252-4c56-b6b1-5457a95272a3",
    "_uuid": "6778ae55be14d71148136df13fe53119c8ca0b1f"
   },
   "source": [
    "The distribution is certainly skewed, which I guess is expected. As Anne mentioned there are some image sizes in test set that are not in the training set. These could be of different modality or magnification. There are 7 out of 16 different shapes that are in Test data set only and not in the train data set.\n",
    "\n",
    "We can pick a random sample from each image size and have a look."
   ]
  },
  {
   "cell_type": "code",
   "execution_count": null,
   "metadata": {
    "_cell_guid": "fd041676-c3f2-4c63-b73f-e4cdfe8442a3",
    "_uuid": "f3156e5893f9e62944a102d9c04c44b24fb3f744",
    "collapsed": true
   },
   "outputs": [],
   "source": [
    "def show_image(ax,title,image):\n",
    "    ax.grid(None)\n",
    "    ax.set_title(title)\n",
    "    ax.imshow(image)"
   ]
  },
  {
   "cell_type": "code",
   "execution_count": null,
   "metadata": {
    "_cell_guid": "6820d3d7-2fe0-414f-a2e1-7d6f169e80f9",
    "_uuid": "c1eb1e253623aefcb3c666c85a0a4a10b458f34c",
    "collapsed": true
   },
   "outputs": [],
   "source": [
    "def n_of_each(df, n = 4):\n",
    "    shapes = df['shape'].unique()\n",
    "    sample = pd.DataFrame()\n",
    "    \n",
    "    for shape in shapes:\n",
    "        sample = sample.append(df[df['shape']==shape].sample(n, replace=True))\n",
    "    \n",
    "    return sample.sort_values(by=['shape']).reset_index()"
   ]
  },
  {
   "cell_type": "code",
   "execution_count": null,
   "metadata": {
    "_cell_guid": "0a553695-665a-4097-b8d5-98ae60424f09",
    "_uuid": "b7696074b3b1da8396a6b9bdb8ef1e41f0c258e2",
    "collapsed": true
   },
   "outputs": [],
   "source": [
    "def show_row_col(sample,cols,path_col='path',image_col=None,label_col='title',mode='file'):\n",
    "    rows = math.ceil(len(sample)/cols)\n",
    "    \n",
    "    fig, ax = plt.subplots(rows,cols,figsize=(5*cols,5*rows))\n",
    "    \n",
    "    for index, data in sample.iterrows():\n",
    "    \n",
    "        title = data[label_col]\n",
    "        if mode=='image':\n",
    "            image = np.array(data[image_col],dtype=np.uint8)\n",
    "            #image = cv2.cvtColor(image,cv2.COLOR_GRAY2RGB)\n",
    "        else:\n",
    "            image = cv2.imread(data[path_col])\n",
    "            image = cv2.cvtColor(image,cv2.COLOR_BGRA2RGB)\n",
    "\n",
    "        row = index // cols\n",
    "        col = index % cols\n",
    "        show_image(ax[row,col],title,image)\n",
    "\n",
    "    plt.show()    "
   ]
  },
  {
   "cell_type": "code",
   "execution_count": null,
   "metadata": {
    "_cell_guid": "b2bc93cb-561a-4115-af0e-81bf74c1d0f2",
    "_uuid": "e667a3aaf427d5419828ce273ca68ab18d700c43",
    "collapsed": true
   },
   "outputs": [],
   "source": [
    "sample = n_of_each(df)"
   ]
  },
  {
   "cell_type": "code",
   "execution_count": null,
   "metadata": {
    "_cell_guid": "bb616c04-32f8-4803-966c-ef0c9e4750c8",
    "_uuid": "15dad3d98b17a368c0e9b3b20b2dfddde8cfc4a4",
    "collapsed": true,
    "scrolled": false
   },
   "outputs": [],
   "source": [
    "sample['label'] = sample[['shape','train_or_test']].apply(lambda x: '{},{}'.format(x[0],x[1]), axis=1)\n",
    "show_row_col(sample,4,path_col='path',label_col='label',mode='file')"
   ]
  },
  {
   "cell_type": "markdown",
   "metadata": {
    "_cell_guid": "fccad463-49d1-40d5-900b-899de4811bf3",
    "_uuid": "4561979e46218f07fbac23503375399892058350"
   },
   "source": [
    "## Masks\n",
    "\n",
    "Extract the masks metadata into a separate file. This should include \n",
    "\n",
    "* mask_id\n",
    "* a separate index number for all the mask objects\n",
    "* minimum bounding rectangle\n",
    "* angle of rotation (longer edge horizontal)\n",
    "* masked area\n",
    "* length & breadth\n",
    "\n",
    "By using contour identification process individual mask objects can be extracted and rotated to a common rectangular shape and we can then get answers to more questions ."
   ]
  },
  {
   "cell_type": "markdown",
   "metadata": {
    "_cell_guid": "341ba3a0-eb2e-4dae-afda-16d21e945f49",
    "_uuid": "085669c331e2d4bc76cc3770a79e7098f003d009"
   },
   "source": [
    "Bounded rotation ensures that resulting rotated image is not clipped."
   ]
  },
  {
   "cell_type": "code",
   "execution_count": null,
   "metadata": {
    "_cell_guid": "10811f80-7be5-4301-88a3-c29a448dce92",
    "_uuid": "414756308346f0a9579710be2e30e0e28d902134",
    "collapsed": true
   },
   "outputs": [],
   "source": [
    "def rotate_bound(image, cX, cY, angle, box = None):\n",
    "    # grab the dimensions of the image and then determine the\n",
    "    # center\n",
    "    (h, w) = image.shape[:2]\n",
    "    #(cX, cY) = (w // 2, h // 2)\n",
    "\n",
    "    # grab the rotation matrix (applying the negative of the\n",
    "    # angle to rotate clockwise), then grab the sine and cosine\n",
    "    # (i.e., the rotation components of the matrix)\n",
    "    M = cv2.getRotationMatrix2D((cX, cY), -angle, 1.0)\n",
    "    cos = np.abs(M[0, 0])\n",
    "    sin = np.abs(M[0, 1])\n",
    "\n",
    "    # compute the new bounding dimensions of the image\n",
    "    nW = int((h * sin) + (w * cos))\n",
    "    nH = int((h * cos) + (w * sin))\n",
    "\n",
    "    # adjust the rotation matrix to take into account translation\n",
    "    M[0, 2] += (nW / 2) - cX\n",
    "    M[1, 2] += (nH / 2) - cY\n",
    "\n",
    "    # perform the actual rotation and return the image\n",
    "    return cv2.warpAffine(image, M, (nW, nH)) "
   ]
  },
  {
   "cell_type": "code",
   "execution_count": null,
   "metadata": {
    "_cell_guid": "3aef8f1e-ee99-4001-8bb8-0b67fd2e5f21",
    "_uuid": "9b1ed36bac3457e955488385f514a308ed9d8eb9",
    "collapsed": true
   },
   "outputs": [],
   "source": [
    "def rotate_points(points,center,origin,angle):\n",
    "    rbox = np.array(points.copy())\n",
    "    \n",
    "    rbox[:,0] -= center[0]\n",
    "    rbox[:,1] -= center[1]\n",
    "    \n",
    "    cos = math.cos(np.radians(angle))\n",
    "    sin = math.sin(np.radians(angle))\n",
    "    rmat = [[cos, -sin],\n",
    "            [sin, cos]]\n",
    "    \n",
    "    rbox = np.dot(np.matrix(rbox),rmat)\n",
    "    \n",
    "    rbox[:,0] += origin[0]  \n",
    "    rbox[:,1] += origin[1]\n",
    "    \n",
    "    return np.array(rbox)"
   ]
  },
  {
   "cell_type": "markdown",
   "metadata": {
    "_cell_guid": "a86fa95f-5af8-48e4-86cd-554554f92322",
    "_uuid": "395b61a6275cd9b91b7b6698ab710d1aab47488a"
   },
   "source": [
    "Given a mask and an image perform the following actions\n",
    "\n",
    "* Identify the contours in the mask\n",
    "* Apply mask on the image to leave only the identified objects\n",
    "* Identify contours in the mask\n",
    "* For each contour extract metadata about the mask\n",
    "* Extract the nuclei and rotate it to get a clipped horizontal rectangle"
   ]
  },
  {
   "cell_type": "code",
   "execution_count": null,
   "metadata": {
    "_cell_guid": "04635845-76d4-44b9-97fd-fb5d56b623e3",
    "_uuid": "24571aac72c3a5577f7fc87a22ebcacd7a0a57e2",
    "collapsed": true
   },
   "outputs": [],
   "source": [
    "def extract(mask, image, mask_id, image_id, frame=3):\n",
    "    _, contours, _ = cv2.findContours(mask, CONTOUR_EXTRACT_MODE, cv2.CHAIN_APPROX_NONE)\n",
    "\n",
    "    data = []\n",
    "    \n",
    "    if len(image.shape) > 2:\n",
    "        all_nuclei = image.copy()\n",
    "        for i in range(image.shape[2]):\n",
    "            all_nuclei[:,:,i] = np.bitwise_and(all_nuclei[:,:,i],mask)\n",
    "    else:\n",
    "        all_nuclei = np.bitwise_and(image,mask)\n",
    "\n",
    "    for contour in contours:\n",
    "        ((cx, cy), r) =  cv2.minEnclosingCircle(contour)\n",
    "        rect = cv2.minAreaRect(contour)\n",
    "        box = cv2.boxPoints(rect)\n",
    "        angle = rect[2]\n",
    "    \n",
    "        x1 = max(0,math.floor(cx-r-frame))\n",
    "        y1 = max(0,math.floor(cy-r-frame))\n",
    "\n",
    "        x2 = min(mask.shape[1],math.ceil(cx+r+frame+1))\n",
    "        y2 = min(mask.shape[0],math.ceil(cy+r+frame+1))\n",
    "\n",
    "        sq_mask =  mask[y1:y2,x1:x2]\n",
    "        square =  all_nuclei[y1:y2,x1:x2,:]\n",
    "        \n",
    "        offset_cx = int(cx-x1)\n",
    "        offset_cy = int(cy-y1)\n",
    "        \n",
    "        # offset the points\n",
    "        box[:,0] -= x1\n",
    "        box[:,1] -= y1\n",
    "        # print(box)\n",
    "        \n",
    "        rotated = rotate_bound(sq_mask,offset_cx,offset_cy,-angle)\n",
    "        nuclei = rotate_bound(square,offset_cx,offset_cy,-angle)\n",
    "        rbox = rotate_points(box,(offset_cx,offset_cy),(nuclei.shape[1]/2,nuclei.shape[0]/2),angle)\n",
    "\n",
    "        xmin, xmax = max(0,math.floor(min(rbox[:,0]))), math.ceil(max(rbox[:,0]))\n",
    "        ymin, ymax = max(0,math.floor(min(rbox[:,1]))), math.ceil(max(rbox[:,1]))\n",
    "\n",
    "        #print(xmin,xmax,ymin,ymax)\n",
    "        nuclei = nuclei[ymin:ymax+1,xmin:xmax+1]\n",
    "        h = ymax - ymin + 1\n",
    "        w = xmax - xmin + 1\n",
    "        if h > w:\n",
    "            nuclei = rotate_bound(nuclei,int(w/2),int(h/2),90)\n",
    "            angle = angle -90\n",
    "            #h,w = nuclei.shape\n",
    "            \n",
    "        data.append({\n",
    "            'image_id':image_id,\n",
    "            'mask_id':mask_id,\n",
    "            'nuclei':nuclei.tolist(),\n",
    "            'width':nuclei.shape[1],\n",
    "            'height':nuclei.shape[0],\n",
    "            'cx':cx,\n",
    "            'cy':cy,\n",
    "            'square':square.tolist(),\n",
    "            'offset_cx':offset_cx,\n",
    "            'offset_cy':offset_cy,\n",
    "            'radius':r,\n",
    "            'box':box.tolist(),\n",
    "            'angle':angle\n",
    "        })\n",
    "        \n",
    "    return(data)"
   ]
  },
  {
   "cell_type": "markdown",
   "metadata": {
    "_cell_guid": "9a73015d-6786-4792-acf7-6eeb9d01469a",
    "_uuid": "67a46cf534cdc4c251a5c8aa43c198d7c80123e5",
    "collapsed": true
   },
   "source": [
    "Masks are in the masks directory and each mask is in a different file. \n"
   ]
  },
  {
   "cell_type": "code",
   "execution_count": null,
   "metadata": {
    "_cell_guid": "08b8affe-bf53-4392-8562-dc564809436d",
    "_uuid": "32963d3aaf41a368bcd7590f1390b1c34420f50d",
    "collapsed": true
   },
   "outputs": [],
   "source": [
    "# lambda function to flatten a list\n",
    "\n",
    "flatten = lambda l: [item for sublist in l for item in sublist]"
   ]
  },
  {
   "cell_type": "code",
   "execution_count": null,
   "metadata": {
    "_cell_guid": "8308927e-3ab8-428f-8376-447a8758cf9b",
    "_uuid": "c288c0b411cca17618eae8d39ae94507205507d6",
    "collapsed": true
   },
   "outputs": [],
   "source": [
    "def get_masks(image_id, prefix, invert=False, enhance=True):\n",
    "    \n",
    "    image_file = '{}/{}/images/{}.png'.format(prefix,image_id,image_id)\n",
    "    image = cv2.imread(image_file) #, cv2.IMREAD_GRAYSCALE)\n",
    "    image = cv2.cvtColor(image,cv2.COLOR_BGRA2RGB)\n",
    "    \n",
    "    if enhance:\n",
    "        clahe = cv2.createCLAHE(clipLimit=2.0, tileGridSize=(3,3))\n",
    "        for channel in range(image.shape[2]):\n",
    "            image[:,:,channel] = clahe.apply(image[:,:,channel])\n",
    "\n",
    "    if invert:\n",
    "        image = np.invert(image)\n",
    "\n",
    "    data = []\n",
    "    mask_files = glob.glob(os.path.join('{}/{}/masks/'.format(prefix,image_id),'*.png'))\n",
    "    \n",
    "    index = 0\n",
    "    for mask_file in mask_files:\n",
    "        mask = cv2.imread(mask_file, cv2.IMREAD_GRAYSCALE)\n",
    "        mask_id = os.path.basename(mask_file).split('.')[0]\n",
    "        info = extract(mask, image, mask_id, image_id)\n",
    "        \n",
    "        data.append(info)\n",
    "        index +=1 \n",
    "    \n",
    "    return(flatten(data))"
   ]
  },
  {
   "cell_type": "code",
   "execution_count": null,
   "metadata": {
    "_cell_guid": "c473250e-c9d1-4ce9-8a28-6e052193c16e",
    "_uuid": "0a399998bdece42043831eb953df341dec1ce6a9",
    "collapsed": true
   },
   "outputs": [],
   "source": [
    "train = df[df['train_or_test'] == 'train'][['id','invert']]"
   ]
  },
  {
   "cell_type": "code",
   "execution_count": null,
   "metadata": {
    "_cell_guid": "88bb7fc0-de65-4882-ad52-13ff43f1146b",
    "_uuid": "c86b3e6fd8ffe68b6a0e184a4d64d349e6faa97f",
    "collapsed": true
   },
   "outputs": [],
   "source": [
    "prefix = '../input/stage1_train'\n",
    "data = train.apply(lambda x: get_masks(x[0],prefix,x[1]), axis = 1)\n",
    "data = flatten(data)\n",
    "masks = pd.DataFrame(data)\n",
    "mdf = masks.merge(df[['id','shape','invert']],how='inner', on=None, left_on = 'image_id', right_on='id')"
   ]
  },
  {
   "cell_type": "code",
   "execution_count": null,
   "metadata": {
    "_cell_guid": "bbe978d2-75c5-403a-87fb-dbd135e894a9",
    "_uuid": "e97c3cfbde8fa8f81b9207ebd91bbf6955651c2e",
    "collapsed": true
   },
   "outputs": [],
   "source": [
    "print(len(masks),list(masks.columns))"
   ]
  },
  {
   "cell_type": "code",
   "execution_count": null,
   "metadata": {
    "_cell_guid": "879fc8b3-f398-47c1-b535-36c1d89f1ba9",
    "_uuid": "2549d686479c5c1365c22c34f55b1295afeecee2",
    "collapsed": true
   },
   "outputs": [],
   "source": [
    "mdf = masks.merge(df[['id','shape','invert']],how='inner', on=None, left_on = 'image_id', right_on='id')"
   ]
  },
  {
   "cell_type": "markdown",
   "metadata": {
    "_cell_guid": "dbc30f7e-9205-4b30-834e-137bbbd2d87d",
    "_uuid": "cec57ac45340f5739de798614ffffc0c9f8c027c"
   },
   "source": [
    "# Processing Steps\n",
    "\n",
    "The images below show the original, one of the masks, masked image and extracted square of the mask.\n"
   ]
  },
  {
   "cell_type": "code",
   "execution_count": null,
   "metadata": {
    "_cell_guid": "144af902-cae3-49e2-bac4-f8d3dc003e6d",
    "_uuid": "9696d9ee35e1aecf4f5fce09e54eacf79d1f2f53",
    "collapsed": true
   },
   "outputs": [],
   "source": [
    "def show_process(df):\n",
    "    \n",
    "    rows = len(df)\n",
    "    fix, ax = plt.subplots(rows,6,figsize=(5*6,5*rows))\n",
    "    for row,data in df.iterrows():\n",
    "\n",
    "        image_file = '{}/{}/images/{}.png'.format(prefix,data['image_id'],data['image_id'])\n",
    "        image = cv2.imread(image_file)\n",
    "        image = cv2.cvtColor(image,cv2.COLOR_BGRA2RGB)\n",
    "        show_image(ax[row,0],'original {}'.format(data['shape']),image)\n",
    "\n",
    "        clahe = cv2.createCLAHE(clipLimit=2.0, tileGridSize=(3,3))\n",
    "        enhanced = image.copy()\n",
    "        for channel in range(enhanced.shape[2]):\n",
    "            enhanced[:,:,channel] = clahe.apply(enhanced[:,:,channel])\n",
    "\n",
    "        circled = cv2.circle(enhanced, (int(data['cx']),int(data['cy'])), \n",
    "                             int(data['radius']+3), \n",
    "                             color=(255,255,0), thickness=3) \n",
    "        show_image(ax[row,1],'enhanced',circled)\n",
    "\n",
    "        mask_file = '{}/{}/masks/{}.png'.format(prefix,data['image_id'],data['mask_id'])\n",
    "        mask = cv2.imread(mask_file,cv2.IMREAD_GRAYSCALE)\n",
    "        \n",
    "        circled = cv2.cvtColor(mask,cv2.COLOR_GRAY2RGB)\n",
    "        circled = cv2.circle(circled, (int(data['cx']),int(data['cy'])), \n",
    "                             int(data['radius']+3), \n",
    "                             color=(255,255,0), thickness=3) \n",
    "\n",
    "        show_image(ax[row,2],'mask',circled)\n",
    "\n",
    "        masked_image = enhanced.copy()\n",
    "        if data['invert']:\n",
    "            masked_image = np.invert(masked_image)\n",
    "\n",
    "        for channel in range(masked_image.shape[2]):\n",
    "            masked_image[:,:,channel] = np.bitwise_and(masked_image[:,:,channel],mask)\n",
    "\n",
    "        circled = cv2.circle(masked_image, (int(data['cx']),int(data['cy'])), \n",
    "                             int(data['radius']+3), \n",
    "                             color=(0,255,255), thickness=3) \n",
    "        show_image(ax[row,3],'inverted & masked',cv2.cvtColor(circled,cv2.COLOR_BGRA2RGB))\n",
    "\n",
    "        square = np.array(data['square'], dtype=np.uint8)\n",
    "        circled = cv2.circle(square, (int(data['offset_cx']),int(data['offset_cy'])), \n",
    "                             int(data['radius']+3), \n",
    "                             color=(255,255,0), thickness=1) \n",
    "        \n",
    "        show_image(ax[row,4],'Cropped',circled)\n",
    "\n",
    "        nuclei = np.array(data['nuclei'], dtype=np.uint8)\n",
    "        show_image(ax[row,5],'rotated and clipped',nuclei)"
   ]
  },
  {
   "cell_type": "markdown",
   "metadata": {
    "_cell_guid": "5c71bf1b-efd7-40b7-a1c4-ab26de40f1a5",
    "_uuid": "cb9ec96bb785064e054fdc00fc1e1f6d449a329b"
   },
   "source": [
    "The images below show the processing steps followed to extract the final nuclei. There is one example of each sample from the training set. I added a circle on the images to show the original location and to show that the nuclei on edges can be clipped based on which edge they are on.\n",
    "\n",
    "* Original image\n",
    "* Image after applying contrast stretch\n",
    "* A mask for the image\n",
    "* After converting dark on bright to bright on dark and applying the mask\n",
    "* Extracting a square. the circle shows the original center.\n",
    "* Rotating the image so that long edge is horizontal and clipping the boundaries."
   ]
  },
  {
   "cell_type": "code",
   "execution_count": null,
   "metadata": {
    "_cell_guid": "6577ba10-1dd1-4fc2-a499-4e967724fb4a",
    "_uuid": "b989fe90fdd3e1964050debabf79ec17eb57c6b8",
    "collapsed": true
   },
   "outputs": [],
   "source": [
    "detail = mdf[mdf['image_id'].isin(sample['id'])]\n",
    "sample_one = n_of_each(detail,n=1)\n",
    "\n",
    "show_process(sample_one)"
   ]
  },
  {
   "cell_type": "markdown",
   "metadata": {
    "_cell_guid": "d26a842b-f1fc-430d-b0df-9c3194a31265",
    "_uuid": "1ceea0be31d0e908f5fa1084eb60567c0a0ba7fa"
   },
   "source": [
    "I had assumed that each mask is one nucleus. I also assumed that the masked sections are completely solid and would not have holes. I wanted to confirm this assumption, but missed out. While looking at the image extraction progression above, I noticed that in some cases the masked section identified was a part of the mask and not the entire object. In these cases, the process I have used has made me detect more than one contour.\n",
    "\n",
    "I wonder if creating combining the contours together into a single set will give me a single composite image."
   ]
  },
  {
   "cell_type": "markdown",
   "metadata": {
    "_cell_guid": "3b2ff01b-3a5c-4b98-9487-b98f180b0022",
    "_uuid": "90800885a21c70e8a2d205a3f13585eeb504fb53"
   },
   "source": [
    "### Masks with holes"
   ]
  },
  {
   "cell_type": "code",
   "execution_count": null,
   "metadata": {
    "_cell_guid": "816ff933-f737-4ee8-8b0f-9a9dcbb0380b",
    "_uuid": "ca5c77622397699a21c7fdb17492f8fe48ec4628",
    "collapsed": true
   },
   "outputs": [],
   "source": [
    "nuclei_by_mask = mdf[['mask_id','image_id']].groupby(['mask_id']).count().reset_index()\n",
    "nuclei_by_mask = nuclei_by_mask.rename(columns={\"image_id\": \"count\"})\n",
    "nuclei_by_mask = nuclei_by_mask[nuclei_by_mask['count']>1]\n",
    "nuclei_by_mask = nuclei_by_mask.sort_values(by=['count'], ascending=False).reset_index()\n",
    "\n",
    "nuclei_by_mask.head()"
   ]
  },
  {
   "cell_type": "markdown",
   "metadata": {
    "_cell_guid": "f1be5103-4fd6-4af9-8fe9-5922a2b397d9",
    "_uuid": "2e1420914bd0eefc4ba8cee2897dcd3ee4b79c9f"
   },
   "source": [
    "Let's have a look at the mask with 14 elements"
   ]
  },
  {
   "cell_type": "code",
   "execution_count": null,
   "metadata": {
    "_cell_guid": "3068b196-c7d5-4e59-8f4e-48c8e4556924",
    "_uuid": "59bfae88c7f4ae1f442892e17a2b4f55c8f4c0db",
    "collapsed": true,
    "scrolled": false
   },
   "outputs": [],
   "source": [
    "data = mdf[mdf['mask_id'] == nuclei_by_mask.loc[0]['mask_id']].copy().reset_index()\n",
    "\n",
    "show_process(data)"
   ]
  },
  {
   "cell_type": "markdown",
   "metadata": {
    "_cell_guid": "1f04ad33-d0a7-4a0c-85c7-d7b1568c55ee",
    "_uuid": "124931e6bf5a34d0ade5dc58244bda342f85e1d5"
   },
   "source": [
    "It looks like the mask has holes, and this may be intentional. CV2 find contours is identifying the parent contour and the holes as child contours. I think there is a way to identify whether the contour is a child or not. If yes I can exclude the child contours."
   ]
  },
  {
   "cell_type": "markdown",
   "metadata": {
    "_cell_guid": "e180e764-0b72-44f4-bf80-062fe4958c0e",
    "_uuid": "39fd0146ebd66e3874268d2b7876ba911471f0b2"
   },
   "source": [
    "Turns out that cv2 has a mode RETR_EXTERNAL which will exclude all child elements and this solves the problem above. "
   ]
  },
  {
   "cell_type": "code",
   "execution_count": null,
   "metadata": {
    "_cell_guid": "47dae126-f1c4-43a9-84c8-3d8cf66f16c3",
    "_uuid": "20fb57d83f86a80f69e0e5e3e5e4ed3795fe7ed4",
    "collapsed": true
   },
   "outputs": [],
   "source": [
    "holes_in_masks = mdf[mdf['mask_id'].isin(nuclei_by_mask['mask_id'].unique())].copy().reset_index()"
   ]
  },
  {
   "cell_type": "code",
   "execution_count": null,
   "metadata": {
    "_cell_guid": "9308ae0d-553a-4844-bce7-a1b43b972e41",
    "_uuid": "5e4bb86c464126453e99a71fe815294920d52ac3",
    "collapsed": true
   },
   "outputs": [],
   "source": [
    "CONTOUR_EXTRACT_MODE = cv2.RETR_EXTERNAL"
   ]
  },
  {
   "cell_type": "code",
   "execution_count": null,
   "metadata": {
    "_cell_guid": "d3366267-c4cc-4d79-a87c-adbbac1504d2",
    "_uuid": "026393777d4805ba8caf30c49e6a8cc54fd7416e",
    "collapsed": true
   },
   "outputs": [],
   "source": [
    "masks_info = os.path.join(OUTPUT_PATH,'masks.json')\n",
    "data = train.apply(lambda x: get_masks(x[0],prefix,x[1]), axis = 1)\n",
    "data = flatten(data)\n",
    "masks = pd.DataFrame(data) \n",
    "with open(masks_info, 'w') as outfile:\n",
    "    json.dump(data, outfile)"
   ]
  },
  {
   "cell_type": "code",
   "execution_count": null,
   "metadata": {
    "_cell_guid": "e0d7ebfe-3651-4a54-8eec-f982af4243ae",
    "_uuid": "7f93a74e6b7044e4f8cac5642c057b1a4cc3f5be",
    "collapsed": true
   },
   "outputs": [],
   "source": [
    "mdf = masks.merge(df[['id','shape','invert']],how='inner', on=None, left_on = 'image_id', right_on='id')\n",
    "len(mdf)"
   ]
  },
  {
   "cell_type": "code",
   "execution_count": null,
   "metadata": {
    "_cell_guid": "07788202-059c-4add-a710-623e41cc63c5",
    "_uuid": "cd9b17b39c7814e9b3a79e376b11a59176f49053",
    "collapsed": true
   },
   "outputs": [],
   "source": [
    "count_by_mask = mdf[['mask_id','image_id']].groupby(['mask_id']).count().reset_index()\n",
    "count_by_mask = count_by_mask.rename(columns={\"image_id\": \"count\"})\n",
    "\n",
    "count_by_mask = count_by_mask[count_by_mask['count']>1].copy().reset_index()\n",
    "count_by_mask"
   ]
  },
  {
   "cell_type": "markdown",
   "metadata": {
    "_cell_guid": "b363a27d-1984-4383-85ca-959ff0864989",
    "_uuid": "35dfd874d9ed198c3ae2f92563498ccd5c41099e"
   },
   "source": [
    "But there are still 11 images where the number of contours identified is 2. This means that these masks have a break between two sections and this is causing the"
   ]
  },
  {
   "cell_type": "markdown",
   "metadata": {
    "_cell_guid": "048d1784-4195-4d40-aa28-ea2aa026c55d",
    "_uuid": "ab5281bb94c5678ee204f34d337a54f23490e6d9"
   },
   "source": [
    "## Masks with gaps"
   ]
  },
  {
   "cell_type": "code",
   "execution_count": null,
   "metadata": {
    "_cell_guid": "4c3d3526-c483-429f-9e43-c5a703aa6d9f",
    "_uuid": "9834e854f401872fb2424dba1b4604e1dffcbfcb",
    "collapsed": true,
    "scrolled": false
   },
   "outputs": [],
   "source": [
    "split_masks = mdf[mdf['mask_id'].isin(count_by_mask['mask_id'].unique())].copy().reset_index()\n",
    "\n",
    "show_process(split_masks)"
   ]
  },
  {
   "cell_type": "code",
   "execution_count": null,
   "metadata": {
    "_cell_guid": "a0fa2fab-ea9c-48de-a00b-f4974da7da11",
    "_uuid": "494c53bef9d6fe27ad7aae2f7a593767aab6e35a",
    "collapsed": true
   },
   "outputs": [],
   "source": [
    "def tag_anomaly(label,df):\n",
    "    if type(df) == 'pandas.core.series.Series':\n",
    "        items = df[['image_id','mask_id']].copy()\n",
    "    else:\n",
    "        items = df[['image_id','mask_id']].copy().drop_duplicates()\n",
    "    items['issue'] = label\n",
    "    \n",
    "    return(items)"
   ]
  },
  {
   "cell_type": "code",
   "execution_count": null,
   "metadata": {
    "_cell_guid": "361d8add-497e-447f-a371-9c111e48fa6c",
    "_uuid": "ca4994fe9ae4183a61c544ac32b4dc4ecc836066",
    "collapsed": true
   },
   "outputs": [],
   "source": [
    "anomalies = pd.DataFrame()\n",
    "anomalies = anomalies.append(tag_anomaly('Holes in mask',holes_in_masks))\n",
    "anomalies = anomalies.append(tag_anomaly('Split mask',split_masks))"
   ]
  },
  {
   "cell_type": "code",
   "execution_count": null,
   "metadata": {
    "_cell_guid": "ed490c25-f912-4779-bf79-8aeefd09e036",
    "_uuid": "692b988ba3118eed74d0a13dd90779cf8d247d85",
    "collapsed": true
   },
   "outputs": [],
   "source": [
    "agg = mdf[['shape','mask_id']].groupby(['shape']).count()\n",
    "#agg.columns = agg.columns.droplevel()\n",
    "agg.plot.barh(stacked=True,figsize=(16,4))\n",
    "plt.show()"
   ]
  },
  {
   "cell_type": "code",
   "execution_count": null,
   "metadata": {
    "_cell_guid": "d3011a2e-fda1-45f0-b6a9-383fecaefa63",
    "_uuid": "244016b7d209c7a6bf6009a917099585eb8d6583",
    "collapsed": true
   },
   "outputs": [],
   "source": [
    "len(mdf[mdf['shape']=='1040x1388'])"
   ]
  },
  {
   "cell_type": "markdown",
   "metadata": {
    "_cell_guid": "1b76f734-512e-49f6-9788-ce74702aaa36",
    "_uuid": "f6c4a6b3c2bfceaa1aed83438bb0ac151e1160b7"
   },
   "source": [
    "The distribution of the number of nuclei identified by different shapes is also quite wide. There are four images sizes where the total number of nuclei identified is greater than 2000. "
   ]
  },
  {
   "cell_type": "code",
   "execution_count": null,
   "metadata": {
    "_cell_guid": "4872b295-c43d-4509-b966-83e597693f0b",
    "_uuid": "0ab1a675e11f1377538587017e72a41756e517a4",
    "collapsed": true
   },
   "outputs": [],
   "source": [
    "agg = mdf[['shape','mask_id','image_id']].groupby(['shape','image_id']).count().reset_index()\n",
    "agg.groupby(['shape'])['mask_id'].agg(['mean','min','max','std']).reset_index()"
   ]
  },
  {
   "cell_type": "code",
   "execution_count": null,
   "metadata": {
    "_cell_guid": "26d9ab6c-3210-43cc-9835-fdb45b6579ef",
    "_uuid": "01d2e5503b6683e3086a4696659fcb67205eb111",
    "collapsed": true
   },
   "outputs": [],
   "source": [
    "nuclei_sample = n_of_each(mdf,8)"
   ]
  },
  {
   "cell_type": "code",
   "execution_count": null,
   "metadata": {
    "_cell_guid": "96394a5b-34aa-43e0-a9fa-daa5b99a4028",
    "_uuid": "d976b2cec6c68e7e5327041474a5d19fca961e96",
    "collapsed": true
   },
   "outputs": [],
   "source": [
    "len(nuclei_sample)/8"
   ]
  },
  {
   "cell_type": "code",
   "execution_count": null,
   "metadata": {
    "_cell_guid": "c5fcea72-60b7-4d52-80d5-ac257f59c621",
    "_uuid": "f174684bd7bb079813ec1dab232aa82f08deff23",
    "collapsed": true,
    "scrolled": false
   },
   "outputs": [],
   "source": [
    "show_row_col(nuclei_sample,8,image_col='nuclei',label_col='shape',mode='image')"
   ]
  },
  {
   "cell_type": "markdown",
   "metadata": {
    "_cell_guid": "baf226a3-ac34-46f7-8f57-79467429fdb7",
    "_uuid": "129756b8e12a55179ace5ce8c6ec5066a995b2cd"
   },
   "source": [
    "My first attempt at extracting the nuclei ended up with quite a lot of faded objects, so I added the contrast stretching to make the nuclei more visible. Since the sample itself is random, every run may not give the same results. I did see some very small objects which to my eye looked like black patches. "
   ]
  },
  {
   "cell_type": "markdown",
   "metadata": {
    "_cell_guid": "faee3a59-4ed0-4189-904f-0a6f4fb5fe8a",
    "_uuid": "1d717d57029b748c944d3d14be14a975d9bbbbb7"
   },
   "source": [
    "## Very Small Nuclei\n",
    "\n",
    "Filtering the data set by the resulting height and width less than 10 pixels, I want to look at the smaller objects to verify that the code I wrote is not incorrect and these are actually as identified by Dr Anne & team."
   ]
  },
  {
   "cell_type": "code",
   "execution_count": null,
   "metadata": {
    "_cell_guid": "d97386af-78e3-4f74-bdfd-d9c853c0f794",
    "_uuid": "f72c4fb37634296cbe91e24e3261a1f5676600aa",
    "collapsed": true
   },
   "outputs": [],
   "source": [
    "len(mdf[mdf['height'] < 3])"
   ]
  },
  {
   "cell_type": "code",
   "execution_count": null,
   "metadata": {
    "_cell_guid": "6f251156-2956-4401-8b83-681d38b05c92",
    "_uuid": "ccd174460294e5ce8d8acf9e3613870c960c5824",
    "collapsed": true
   },
   "outputs": [],
   "source": [
    "def show_mask(mdf, mask_id, prefix):\n",
    "    image_id = mdf[mdf['mask_id']==mask_id]['image_id'].squeeze()\n",
    "    image_file = '{}/{}/images/{}.png'.format(prefix,image_id,image_id)\n",
    "    mask_file = '{}/{}/masks/{}.png'.format(prefix,image_id,mask_id) \n",
    "    \n",
    "    image = cv2.imread(image_file)\n",
    "    image = cv2.cvtColor(image,cv2.COLOR_BGRA2RGB)\n",
    "    \n",
    "    mask = cv2.imread(mask_file,cv2.IMREAD_GRAYSCALE)\n",
    "    mask = cv2.cvtColor(mask,cv2.COLOR_GRAY2RGB)\n",
    "    \n",
    "    fig,ax = plt.subplots(1,2,figsize = (20,20))\n",
    "    ax[0].grid(None)\n",
    "    ax[0].imshow(image)\n",
    "    ax[1].set_title('Image')\n",
    "    ax[1].grid(None)\n",
    "    ax[1].imshow(mask)\n",
    "    ax[1].set_title('Mask')"
   ]
  },
  {
   "cell_type": "code",
   "execution_count": null,
   "metadata": {
    "_cell_guid": "aed7d706-9d51-416d-a525-116bffea4235",
    "_uuid": "ce3238ec769171ab648ed009794ee7dbc4397fb6",
    "collapsed": true
   },
   "outputs": [],
   "source": [
    "mdf.plot.scatter('width','height')\n",
    "plt.show()"
   ]
  },
  {
   "cell_type": "code",
   "execution_count": null,
   "metadata": {
    "_cell_guid": "0b155097-6126-4661-8ffa-07394ff3cd50",
    "_uuid": "378de3522c95dd2db5ba888587685731a7e99b96",
    "collapsed": true
   },
   "outputs": [],
   "source": [
    "fig, axes = plt.subplots(2,1, figsize=(20,20))\n",
    "sns.violinplot('shape','height', data=mdf, ax = axes[0])\n",
    "axes[0].set_title('Height Distribution by Shape')\n",
    "\n",
    "axes[0].yaxis.grid(True)\n",
    "axes[0].set_xlabel('Shape')\n",
    "axes[0].set_ylabel('Height')\n",
    "\n",
    "sns.violinplot('shape','width', data=mdf, ax = axes[1])\n",
    "axes[1].set_title('Width Distribution by Shape')\n",
    "\n",
    "axes[1].yaxis.grid(True)\n",
    "axes[1].set_xlabel('Shape')\n",
    "axes[1].set_ylabel('Width')\n",
    "\n",
    "plt.show()"
   ]
  },
  {
   "cell_type": "markdown",
   "metadata": {
    "_cell_guid": "b6790d20-efa2-42b2-befb-5b5e7510d3e8",
    "_uuid": "494923ac33e28a4b69d3b58026bd3c0fdcc3deec"
   },
   "source": [
    "Overall size distribution of the nuclei\n",
    "\n",
    "* The largest resolution 1040x1388 has larger nuclei width averaging around 110.\n",
    "* Most of the remaining shapes have average width between 10 & 30\n",
    "* One outlier is the 360x360 where there are groups which are generally bigger than 40, but there a re quite a few which are smaller than 20."
   ]
  },
  {
   "cell_type": "code",
   "execution_count": null,
   "metadata": {
    "_cell_guid": "4a26262f-9650-4fec-8c65-77a0152f355a",
    "_uuid": "662157332dd4388f022c90117fdc269cf28c915c",
    "collapsed": true
   },
   "outputs": [],
   "source": [
    "small = mdf[mdf['width'] < 10]\n",
    "\n",
    "fig, axes = plt.subplots(2,1, figsize=(20,20))\n",
    "sns.violinplot('shape','height', data=small, ax = axes[0])\n",
    "axes[0].set_title('Height Distribution by Shape (Width < 10)')\n",
    "\n",
    "axes[0].yaxis.grid(True)\n",
    "axes[0].set_xlabel('Shape')\n",
    "axes[0].set_ylabel('Height')\n",
    "\n",
    "sns.violinplot('shape','width', data=small, ax = axes[1])\n",
    "axes[1].set_title('Width Distribution by Shape')\n",
    "\n",
    "axes[1].yaxis.grid(True)\n",
    "axes[1].set_xlabel('Shape')\n",
    "axes[1].set_ylabel('Width')\n",
    "\n",
    "plt.show()"
   ]
  },
  {
   "cell_type": "markdown",
   "metadata": {
    "_cell_guid": "2467b3a5-96b8-49de-8893-487d15abab7f",
    "_uuid": "5e3c33d66e30dc9c6d28bf1991ac524ccfeabb83"
   },
   "source": [
    "Interesting distribution of the nuclei image sizes. When width is less that 10 pixels, the height also is less than 10, however there are images where height is less than 10 but the width is greater than 10\n",
    "\n",
    "* Smaller sized (<5px) images are mostly in the image sizes 256x256, 256x360, and 360x360 \n",
    "* Rest of the images have larger overall images with few outliers in the smaller sizes"
   ]
  },
  {
   "cell_type": "code",
   "execution_count": null,
   "metadata": {
    "_cell_guid": "5783731e-78bf-4f7a-af70-090c0579b27d",
    "_uuid": "521ea0a4e444063bd17ee251ead736d4333e97b6",
    "collapsed": true
   },
   "outputs": [],
   "source": [
    "small = mdf[mdf['height'] < 10]\n",
    "small = small[small['width']> 10]\n",
    "\n",
    "fig, axes = plt.subplots(2,1, figsize=(20,20))\n",
    "sns.violinplot('shape','height', data=small, ax = axes[0])\n",
    "axes[0].set_title('Height Distribution by Shape (Height < 10 & Width > 10)')\n",
    "\n",
    "axes[0].yaxis.grid(True)\n",
    "axes[0].set_xlabel('Shape')\n",
    "axes[0].set_ylabel('Height')\n",
    "\n",
    "sns.violinplot('shape','width', data=small, ax = axes[1])\n",
    "axes[1].set_title('Width Distribution by Shape (Height < 10 & Width > 10)')\n",
    "\n",
    "axes[1].yaxis.grid(True)\n",
    "axes[1].set_xlabel('Shape')\n",
    "axes[1].set_ylabel('Width')\n",
    "\n",
    "plt.show()"
   ]
  },
  {
   "cell_type": "markdown",
   "metadata": {
    "_cell_guid": "4e8b9cb0-b268-4790-ada9-bcf9774fbbaf",
    "_uuid": "e10929ce19062df5084fa3fd647f8b6c447afca8"
   },
   "source": [
    "There seem to be some extreme cases where height is less than 10pixels but the width is greater than 30"
   ]
  },
  {
   "cell_type": "code",
   "execution_count": null,
   "metadata": {
    "_cell_guid": "62adf4c4-cf97-4032-82c5-f593053b5288",
    "_uuid": "927cc0caac8cf3661793af5f6b065e07359ee035",
    "collapsed": true
   },
   "outputs": [],
   "source": [
    "small = mdf[(mdf['height'] < 10) & (mdf['width']> 30)]\n",
    "\n",
    "fig, axes = plt.subplots(2,1, figsize=(20,20))\n",
    "sns.violinplot('shape','height', data=small, ax = axes[0])\n",
    "axes[0].set_title('Height Distribution by Shape (Height < 10 & Width > 30)')\n",
    "\n",
    "axes[0].yaxis.grid(True)\n",
    "axes[0].set_xlabel('Shape')\n",
    "axes[0].set_ylabel('Height')\n",
    "\n",
    "sns.violinplot('shape','width', data=small, ax = axes[1])\n",
    "axes[1].set_title('Width Distribution by Shape (Height < 10 & Width > 30)')\n",
    "\n",
    "axes[1].yaxis.grid(True)\n",
    "axes[1].set_xlabel('Shape')\n",
    "axes[1].set_ylabel('Width')\n",
    "\n",
    "plt.show()"
   ]
  },
  {
   "cell_type": "code",
   "execution_count": null,
   "metadata": {
    "_cell_guid": "dc705750-d8d3-4de3-b997-ce44cfe32d12",
    "_uuid": "7c3beb01c83559cede9d07a02dbb5a7db6698dce",
    "collapsed": true
   },
   "outputs": [],
   "source": [
    "small = mdf[mdf['height'] < 10]\n",
    "\n",
    "g = sns.FacetGrid(small,col=\"shape\", col_wrap=4, size = 4)\n",
    "g = g.map(plt.scatter, \"height\", \"width\")"
   ]
  },
  {
   "cell_type": "code",
   "execution_count": null,
   "metadata": {
    "_cell_guid": "ea7baf8e-d54e-4b29-a535-568e9f1141c7",
    "_uuid": "b70c4123e00563874b9b089a9f80d42c7fdeda81",
    "collapsed": true
   },
   "outputs": [],
   "source": [
    "small = mdf[(mdf['height'] < 5) & (mdf['width'] > 20)]\n",
    "\n",
    "g = sns.FacetGrid(small,col=\"shape\", col_wrap=4, size = 4)\n",
    "g = g.map(plt.scatter, \"height\", \"width\")"
   ]
  },
  {
   "cell_type": "code",
   "execution_count": null,
   "metadata": {
    "_cell_guid": "fb0a2387-db43-464b-9a8c-4313f64fffc9",
    "_uuid": "a0af340004ac92894fd901e85ae2175714924b57",
    "collapsed": true
   },
   "outputs": [],
   "source": [
    "len(small)"
   ]
  },
  {
   "cell_type": "markdown",
   "metadata": {
    "_cell_guid": "e11f2931-5549-41c9-96a0-7a0e128dd2d7",
    "_uuid": "2e203950986e47cd68ea2f5847d9080863d5528e"
   },
   "source": [
    "Ditribution of the nuclei counts identified in images by shape of original image"
   ]
  },
  {
   "cell_type": "code",
   "execution_count": null,
   "metadata": {
    "_cell_guid": "df2398c9-f645-44c9-95fa-c8e9de7284ca",
    "_uuid": "338295e9f43e29bbaf5bd6adf689302f73be759a",
    "collapsed": true
   },
   "outputs": [],
   "source": [
    "agg = mdf[['image_id','shape','mask_id']].groupby(['shape','image_id']).count().reset_index()\n",
    "agg = agg.rename(columns={'mask_id':'mask_count'})\n",
    "\n",
    "g = sns.FacetGrid(agg ,col=\"shape\", size = 4,  sharex=\"none\", col_wrap=3)\n",
    "g = g.map(plt.hist,'mask_count')"
   ]
  },
  {
   "cell_type": "markdown",
   "metadata": {
    "_cell_guid": "9a6996c0-0f8c-4e67-af19-c33f5e84b2ba",
    "_uuid": "c817de69fd99e76fed2ccaebc7ab59fa303b96f6"
   },
   "source": [
    "Overall distribution of the number of nuclei annotated by image."
   ]
  },
  {
   "cell_type": "code",
   "execution_count": null,
   "metadata": {
    "_cell_guid": "65f20ed4-9de8-4bf8-8ba6-95dd8e9e9821",
    "_uuid": "be4a6a866940b17afc1985fb386892e57e6ec66c",
    "collapsed": true
   },
   "outputs": [],
   "source": [
    "agg = mdf[['image_id','mask_id']].groupby(['image_id']).count().reset_index()\n",
    "agg = agg.rename(columns={'mask_id':'mask_count'})\n",
    "\n",
    "fig, ax = plt.subplots(figsize=(20,5))\n",
    "sns.distplot(agg['mask_count'],ax=ax,rug=True)\n",
    "plt.show()"
   ]
  },
  {
   "cell_type": "code",
   "execution_count": null,
   "metadata": {
    "_cell_guid": "e883211b-a891-43f0-851f-83ef6e48a260",
    "_uuid": "91badf10b9fdeb3ed764f33c611772f6b985666f",
    "collapsed": true
   },
   "outputs": [],
   "source": [
    "agg.loc[agg['mask_count']<10,'mask_count'].plot.hist()\n",
    "plt.show()"
   ]
  },
  {
   "cell_type": "markdown",
   "metadata": {
    "_cell_guid": "c59d3af4-fa90-477b-b4b9-7a7e9647423b",
    "_uuid": "bb2bc5cf069dd54bb783a5b2a1983dd736aa373d"
   },
   "source": [
    "There are very few images with nuclei count less than 5"
   ]
  },
  {
   "cell_type": "code",
   "execution_count": null,
   "metadata": {
    "_cell_guid": "9114400b-f7db-4492-aff6-9ceb11da059c",
    "_uuid": "0867d87a0182b336213589ebbd2b15df267782d3",
    "collapsed": true
   },
   "outputs": [],
   "source": [
    "agg[agg['mask_count']<4]"
   ]
  },
  {
   "cell_type": "markdown",
   "metadata": {
    "_cell_guid": "3f16ccaa-9cc6-40f9-928d-4a0c48c2c818",
    "_uuid": "c7328988bcdcc8302e65950fccb6ae46f4ab5415"
   },
   "source": [
    "Processing details where only a single nuclei is annotated."
   ]
  },
  {
   "cell_type": "code",
   "execution_count": null,
   "metadata": {
    "_cell_guid": "8d63d3ac-dbb3-4d38-b132-b24b547ff292",
    "_uuid": "d740a9f7f24cf31de7cffb54ad2adb4cce540cbb",
    "collapsed": true
   },
   "outputs": [],
   "source": [
    "low_count = mdf[mdf['image_id'].isin(agg.loc[agg['mask_count']<2,'image_id'].unique())].copy().reset_index()\n",
    "\n",
    "show_process(low_count)"
   ]
  },
  {
   "cell_type": "code",
   "execution_count": null,
   "metadata": {
    "_cell_guid": "54f0e705-1f7b-45a1-b1eb-08282c7758d2",
    "_uuid": "e238e9f74c75c3b1bab2fa7aebbb7d8c1f737aef",
    "collapsed": true
   },
   "outputs": [],
   "source": [
    "anomalies = anomalies.append(tag_anomaly('Invalid Masks',low_count.loc[2]))"
   ]
  },
  {
   "cell_type": "markdown",
   "metadata": {
    "_cell_guid": "ab3d5db6-9cd0-4a70-81e0-0175fd5a85ff",
    "_uuid": "45d96bc2b82fd0df38fc6b37e42b79175c8a621e"
   },
   "source": [
    "The third one in the above set has already been identified an incorrect train file. This is missing annotations. \n",
    "\n",
    "Processing details where only two nuclei are annotated."
   ]
  },
  {
   "cell_type": "code",
   "execution_count": null,
   "metadata": {
    "_cell_guid": "e6349da3-c9cd-4e51-b2ff-877a80d1c9c9",
    "_uuid": "5c62e686d6f5ca0a9c3b30b58132082e605a5294",
    "collapsed": true
   },
   "outputs": [],
   "source": [
    "low_count = mdf[mdf['image_id'].isin(agg.loc[agg['mask_count']==2,'image_id'].unique())].copy().reset_index()\n",
    "\n",
    "show_process(low_count)"
   ]
  },
  {
   "cell_type": "markdown",
   "metadata": {
    "_cell_guid": "5ac65385-1df6-4356-857b-ea3ca79c1ce0",
    "_uuid": "9cce9a316dcb546c07850b76bb62afe627c7f7c9"
   },
   "source": [
    "* Image 1: Is this supposed to be two nuclei?\n",
    "* Image 3: Is a middle one missing from the masks?"
   ]
  },
  {
   "cell_type": "code",
   "execution_count": null,
   "metadata": {
    "_cell_guid": "fdc823e1-1c82-4a89-a4a6-6213c2f06674",
    "_uuid": "a8875daafc5be78156361d58efd7cded8b8a9330",
    "collapsed": true
   },
   "outputs": [],
   "source": [
    "low_count = mdf[mdf['image_id'].isin(agg.loc[agg['mask_count']==3,'image_id'].unique())].copy().reset_index()\n",
    "\n",
    "show_process(low_count)"
   ]
  },
  {
   "cell_type": "markdown",
   "metadata": {
    "_cell_guid": "7dc7b9f5-c44f-4afc-b871-465d56f63f29",
    "_uuid": "5748a45139bf3a6d1001fbadc2902eac2a2fda41"
   },
   "source": [
    "### Anomalies"
   ]
  },
  {
   "cell_type": "code",
   "execution_count": null,
   "metadata": {
    "_cell_guid": "d3cb468e-dd60-4254-989c-04fd44f65183",
    "_uuid": "8e5f572de63cbb680b548692da9aed3478072ac0",
    "collapsed": true,
    "scrolled": false
   },
   "outputs": [],
   "source": [
    "abnormal = mdf[(mdf['height'] < 4) & \n",
    "               (mdf['width'] > 30)].copy().reset_index()\n",
    "show_process(abnormal)"
   ]
  },
  {
   "cell_type": "markdown",
   "metadata": {
    "_cell_guid": "a60498ab-96f3-49f0-91db-5e34a7d1c1e6",
    "_uuid": "6ccfbdf8734472cd579b582c5a9c097b8d455dc1"
   },
   "source": [
    "All of these look like incorrect annotation."
   ]
  },
  {
   "cell_type": "code",
   "execution_count": null,
   "metadata": {
    "_cell_guid": "ba692e6a-4863-4eb9-a3a1-d6777ef8f367",
    "_uuid": "ba46d4f8c88283daf6d523ef8691451c8fd07770",
    "collapsed": true
   },
   "outputs": [],
   "source": [
    "anomalies = anomalies.append(tag_anomaly('Look like lines',abnormal))"
   ]
  },
  {
   "cell_type": "code",
   "execution_count": null,
   "metadata": {
    "_cell_guid": "c9e8266a-c362-46bc-9434-ddee6515a9f3",
    "_uuid": "a5a45f0d46ad7c3e90892ee983ff4514b5ad757a",
    "collapsed": true
   },
   "outputs": [],
   "source": [
    "abnormal = mdf[(mdf['height'] < 6) & \n",
    "               (mdf['height'] > 4) & \n",
    "               (mdf['width'] > 30)].copy().reset_index()\n",
    "len(abnormal)\n",
    "show_process(abnormal)"
   ]
  },
  {
   "cell_type": "code",
   "execution_count": null,
   "metadata": {
    "_cell_guid": "436d70b3-ec06-442b-8444-f2a816fe83f2",
    "_uuid": "40f56f4f5660ff1986ebc7eb08120f479a203786",
    "collapsed": true
   },
   "outputs": [],
   "source": [
    "anomalies = anomalies.append(tag_anomaly('Look like lines',abnormal.loc[0]))"
   ]
  },
  {
   "cell_type": "code",
   "execution_count": null,
   "metadata": {
    "_cell_guid": "ff568a45-3d66-4983-94eb-20bfa5408385",
    "_uuid": "c1c94ad0f7e797fc82cf3c966f9e0296adcdd62a",
    "collapsed": true
   },
   "outputs": [],
   "source": [
    "with open(os.path.join(OUTPUT_PATH,'anomalies.json'), 'w') as outfile:\n",
    "    json.dump(anomalies.to_json(orient='records'), outfile)"
   ]
  },
  {
   "cell_type": "markdown",
   "metadata": {
    "_cell_guid": "c4aae38c-c050-43ae-aa28-079d82f2425d",
    "_uuid": "49f1efa7d6280ea2a8eda15b5d041b472df7f426"
   },
   "source": [
    "Maybe it is possible to detect if the extracted nuclei image dimensions are an outlier or not."
   ]
  },
  {
   "cell_type": "code",
   "execution_count": null,
   "metadata": {
    "_cell_guid": "2fff15d4-a902-45ab-9391-90bae2e76948",
    "_uuid": "0dc471751006e601c77d92a875562ced2d7d505c",
    "collapsed": true
   },
   "outputs": [],
   "source": [
    "agg = anomalies[['issue','mask_id']].groupby('issue').count()\n",
    "agg = agg.rename(columns={'mask_id':'counts'})\n",
    "agg"
   ]
  },
  {
   "cell_type": "markdown",
   "metadata": {
    "_cell_guid": "2e86cbfd-13df-4244-b942-e60bc38f5c27",
    "_uuid": "af96f80ac9eabd4ef06304828761d0c129c9f22c"
   },
   "source": [
    "## Conclusion\n",
    "\n",
    "Sometimes mistakes help. Using RETR_TREE was a mistake, but it helped me identify masks that have holes. \n",
    "\n",
    "There seem to be issues in the data. Some have already been identified, some are yet to be identified. \n",
    "\n",
    "There are some missing annotations also as mentioned in this [Thread to post data quality issues](https://www.kaggle.com/c/data-science-bowl-2018/discussion/47770)\n",
    "\n",
    "> This might be a case where annotators disagree. For me, if I could see that something was a nucleus, even behind a piece of debris like this, I would annotate it. Thankfully, debris like this is not common.\n",
    "\n",
    "> I agree b1eb0123fe2d8c825694b193efb7b923d95effac9558ee4eaf3116374c2c94fe is missing two nuclei off to the right. I'm also disturbed that there are tiny black dots, indicating holes in the nuclei which should not be there. (I cannot swear to it, but in general nuclei as we have annotated them should NOT have any holes) \n",
    "\n",
    "> For 19f0653c33982a416feed56e5d1ce6849fd83314fd19dfa1c5b23c6b66e9868a I guess it depends how you generated the image you are showing on the right. You are right that in general they ought to be multi-colored whereas your result indicates the masks are improperly merged. Just not sure whether that is happening in the annotations or in your code that generates the multicolor visualization (I assume the former of course, in which case it's definitely an error). \n",
    "\n",
    "> For 9bb6e39d5f4415bc7554842ee5d1280403a602f2ba56122b87f453a62d37c06e indeed, that object is an error. I caught many of these before the training set went out but apparently not all! \n",
    "\n",
    "> For 1f0008060150b5b93084ae2e4dabd160ab80a95ce8071a321b80ec4e33b58aca: Those pairs of nuclei should indeed be split. Those are errors.\n",
    "> stage1_train/58c593bcb98386e7fd42a1d34e291db93477624b164e83ab2afa3caa90d1d921 I agree that nucleus ought to have been identified\n",
    "\n",
    "> I agree that image 12aeefb1b522b283819b12e4cfaf6b13c1264c0aadac3412b4edd2ace304cb40 was badly annotated.\n",
    "> 0a7d30b252359a10fd298b638b90cb9ada3acced4e0c0e5a3692013f432ee4e9. Single mask seems to cover two objects"
   ]
  },
  {
   "cell_type": "code",
   "execution_count": null,
   "metadata": {
    "_cell_guid": "2a033949-84ce-4050-988b-add4dde6c72a",
    "_uuid": "ac642de78b738237871a23f366c2019f431dd7da",
    "collapsed": true
   },
   "outputs": [],
   "source": []
  }
 ],
 "metadata": {
  "kernelspec": {
   "display_name": "Python 3",
   "language": "python",
   "name": "python3"
  },
  "language_info": {
   "codemirror_mode": {
    "name": "ipython",
    "version": 3
   },
   "file_extension": ".py",
   "mimetype": "text/x-python",
   "name": "python",
   "nbconvert_exporter": "python",
   "pygments_lexer": "ipython3",
   "version": "3.6.1"
  }
 },
 "nbformat": 4,
 "nbformat_minor": 1
}
